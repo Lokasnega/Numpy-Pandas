{
  "cells": [
    {
      "cell_type": "markdown",
      "metadata": {
        "id": "nUVbW3-dNLbV"
      },
      "source": [
        "# Numpy\n",
        "\n"
      ]
    },
    {
      "cell_type": "markdown",
      "metadata": {
        "id": "wPOgu2zLNLbY"
      },
      "source": [
        "#### 1. Import the numpy package under the name `np` (★☆☆) \n",
        "(**hint**: import … as …)"
      ]
    },
    {
      "cell_type": "code",
      "execution_count": 1,
      "metadata": {
        "collapsed": true,
        "id": "VQEYn4rwNLbZ"
      },
      "outputs": [],
      "source": [
        "import numpy as np"
      ]
    },
    {
      "cell_type": "markdown",
      "metadata": {
        "id": "MN4p7HTKNLbZ"
      },
      "source": [
        "#### 2. Print the numpy version and the configuration (★☆☆) \n",
        "(**hint**: np.\\_\\_version\\_\\_, np.show\\_config)"
      ]
    },
    {
      "cell_type": "code",
      "execution_count": 2,
      "metadata": {
        "id": "hdtlsKs7NLba",
        "colab": {
          "base_uri": "https://localhost:8080/",
          "height": 35
        },
        "outputId": "72d4ac5b-707d-403a-aef4-ab2090539318"
      },
      "outputs": [
        {
          "output_type": "execute_result",
          "data": {
            "text/plain": [
              "'1.21.6'"
            ],
            "application/vnd.google.colaboratory.intrinsic+json": {
              "type": "string"
            }
          },
          "metadata": {},
          "execution_count": 2
        }
      ],
      "source": [
        "np.__version__"
      ]
    },
    {
      "cell_type": "code",
      "source": [
        "np.show_config()"
      ],
      "metadata": {
        "colab": {
          "base_uri": "https://localhost:8080/"
        },
        "id": "221ElOw-OsJg",
        "outputId": "9b37630e-3d64-4cfa-cc74-5749c3216e88"
      },
      "execution_count": 3,
      "outputs": [
        {
          "output_type": "stream",
          "name": "stdout",
          "text": [
            "blas_mkl_info:\n",
            "  NOT AVAILABLE\n",
            "blis_info:\n",
            "  NOT AVAILABLE\n",
            "openblas_info:\n",
            "    libraries = ['openblas', 'openblas']\n",
            "    library_dirs = ['/usr/local/lib']\n",
            "    language = c\n",
            "    define_macros = [('HAVE_CBLAS', None)]\n",
            "    runtime_library_dirs = ['/usr/local/lib']\n",
            "blas_opt_info:\n",
            "    libraries = ['openblas', 'openblas']\n",
            "    library_dirs = ['/usr/local/lib']\n",
            "    language = c\n",
            "    define_macros = [('HAVE_CBLAS', None)]\n",
            "    runtime_library_dirs = ['/usr/local/lib']\n",
            "lapack_mkl_info:\n",
            "  NOT AVAILABLE\n",
            "openblas_lapack_info:\n",
            "    libraries = ['openblas', 'openblas']\n",
            "    library_dirs = ['/usr/local/lib']\n",
            "    language = c\n",
            "    define_macros = [('HAVE_CBLAS', None)]\n",
            "    runtime_library_dirs = ['/usr/local/lib']\n",
            "lapack_opt_info:\n",
            "    libraries = ['openblas', 'openblas']\n",
            "    library_dirs = ['/usr/local/lib']\n",
            "    language = c\n",
            "    define_macros = [('HAVE_CBLAS', None)]\n",
            "    runtime_library_dirs = ['/usr/local/lib']\n",
            "Supported SIMD extensions in this NumPy install:\n",
            "    baseline = SSE,SSE2,SSE3\n",
            "    found = SSSE3,SSE41,POPCNT,SSE42,AVX,F16C,FMA3,AVX2\n",
            "    not found = AVX512F,AVX512CD,AVX512_KNL,AVX512_KNM,AVX512_SKX,AVX512_CLX,AVX512_CNL,AVX512_ICL\n"
          ]
        }
      ]
    },
    {
      "cell_type": "markdown",
      "metadata": {
        "id": "AYRM_mmiNLba"
      },
      "source": [
        "#### 3. Create a null vector of size 10 (★☆☆) \n",
        "(**hint**: np.zeros)"
      ]
    },
    {
      "cell_type": "code",
      "execution_count": 4,
      "metadata": {
        "id": "KMyu4BdpNLbb",
        "colab": {
          "base_uri": "https://localhost:8080/"
        },
        "outputId": "47ae826b-3440-4e2f-86eb-b9bcd58f583b"
      },
      "outputs": [
        {
          "output_type": "execute_result",
          "data": {
            "text/plain": [
              "array([0., 0., 0., 0., 0., 0., 0., 0., 0., 0.])"
            ]
          },
          "metadata": {},
          "execution_count": 4
        }
      ],
      "source": [
        "np.zeros(10)"
      ]
    },
    {
      "cell_type": "markdown",
      "metadata": {
        "id": "7Vw_j1cfNLbb"
      },
      "source": [
        "#### 4.  How to find the memory size of any array (★☆☆) \n",
        "(**hint**: size, itemsize)"
      ]
    },
    {
      "cell_type": "code",
      "execution_count": null,
      "metadata": {
        "id": "i9zjTN9YNLbb",
        "colab": {
          "base_uri": "https://localhost:8080/"
        },
        "outputId": "e7b2946c-bf71-4db6-9e85-8d60475b984c"
      },
      "outputs": [
        {
          "output_type": "execute_result",
          "data": {
            "text/plain": [
              "10"
            ]
          },
          "metadata": {},
          "execution_count": 12
        }
      ],
      "source": [
        "a = np.zeros(10)\n",
        "np.size(a)\n"
      ]
    },
    {
      "cell_type": "code",
      "source": [
        "a.itemsize"
      ],
      "metadata": {
        "colab": {
          "base_uri": "https://localhost:8080/"
        },
        "id": "2OzXIwmtbIBa",
        "outputId": "679c0179-d436-484b-c88d-da1d5ab9517b"
      },
      "execution_count": null,
      "outputs": [
        {
          "output_type": "execute_result",
          "data": {
            "text/plain": [
              "8"
            ]
          },
          "metadata": {},
          "execution_count": 14
        }
      ]
    },
    {
      "cell_type": "code",
      "source": [
        "memory_size = np.size(a) * a.itemsize\n",
        "memory_size"
      ],
      "metadata": {
        "colab": {
          "base_uri": "https://localhost:8080/"
        },
        "id": "NAofqRyEbRcL",
        "outputId": "7d6e308d-6604-429a-a885-fce9197c5b38"
      },
      "execution_count": null,
      "outputs": [
        {
          "output_type": "execute_result",
          "data": {
            "text/plain": [
              "80"
            ]
          },
          "metadata": {},
          "execution_count": 16
        }
      ]
    },
    {
      "cell_type": "markdown",
      "metadata": {
        "id": "G1k636qDNLbc"
      },
      "source": [
        "#### 5.  How to get the documentation of the numpy add function from the command line? (★☆☆) \n",
        "(**hint**: np.info)"
      ]
    },
    {
      "cell_type": "code",
      "execution_count": 5,
      "metadata": {
        "collapsed": true,
        "id": "gQ3LOUybNLbc",
        "colab": {
          "base_uri": "https://localhost:8080/"
        },
        "outputId": "25d78009-86ca-410d-9d4b-ebd37e6948a2"
      },
      "outputs": [
        {
          "output_type": "stream",
          "name": "stdout",
          "text": [
            "add(x1, x2, /, out=None, *, where=True, casting='same_kind', order='K', dtype=None, subok=True[, signature, extobj])\n",
            "\n",
            "Add arguments element-wise.\n",
            "\n",
            "Parameters\n",
            "----------\n",
            "x1, x2 : array_like\n",
            "    The arrays to be added.\n",
            "    If ``x1.shape != x2.shape``, they must be broadcastable to a common\n",
            "    shape (which becomes the shape of the output).\n",
            "out : ndarray, None, or tuple of ndarray and None, optional\n",
            "    A location into which the result is stored. If provided, it must have\n",
            "    a shape that the inputs broadcast to. If not provided or None,\n",
            "    a freshly-allocated array is returned. A tuple (possible only as a\n",
            "    keyword argument) must have length equal to the number of outputs.\n",
            "where : array_like, optional\n",
            "    This condition is broadcast over the input. At locations where the\n",
            "    condition is True, the `out` array will be set to the ufunc result.\n",
            "    Elsewhere, the `out` array will retain its original value.\n",
            "    Note that if an uninitialized `out` array is created via the default\n",
            "    ``out=None``, locations within it where the condition is False will\n",
            "    remain uninitialized.\n",
            "**kwargs\n",
            "    For other keyword-only arguments, see the\n",
            "    :ref:`ufunc docs <ufuncs.kwargs>`.\n",
            "\n",
            "Returns\n",
            "-------\n",
            "add : ndarray or scalar\n",
            "    The sum of `x1` and `x2`, element-wise.\n",
            "    This is a scalar if both `x1` and `x2` are scalars.\n",
            "\n",
            "Notes\n",
            "-----\n",
            "Equivalent to `x1` + `x2` in terms of array broadcasting.\n",
            "\n",
            "Examples\n",
            "--------\n",
            ">>> np.add(1.0, 4.0)\n",
            "5.0\n",
            ">>> x1 = np.arange(9.0).reshape((3, 3))\n",
            ">>> x2 = np.arange(3.0)\n",
            ">>> np.add(x1, x2)\n",
            "array([[  0.,   2.,   4.],\n",
            "       [  3.,   5.,   7.],\n",
            "       [  6.,   8.,  10.]])\n",
            "\n",
            "The ``+`` operator can be used as a shorthand for ``np.add`` on ndarrays.\n",
            "\n",
            ">>> x1 = np.arange(9.0).reshape((3, 3))\n",
            ">>> x2 = np.arange(3.0)\n",
            ">>> x1 + x2\n",
            "array([[ 0.,  2.,  4.],\n",
            "       [ 3.,  5.,  7.],\n",
            "       [ 6.,  8., 10.]])\n"
          ]
        }
      ],
      "source": [
        "np.info(np.add)"
      ]
    },
    {
      "cell_type": "markdown",
      "metadata": {
        "id": "-Q3cPNGsNLbc"
      },
      "source": [
        "#### 6.  Create a null vector of size 10 but the fifth value which is 1 (★☆☆) \n",
        "(**hint**: array\\[4\\])"
      ]
    },
    {
      "cell_type": "code",
      "execution_count": null,
      "metadata": {
        "id": "aUPrvAfENLbd",
        "colab": {
          "base_uri": "https://localhost:8080/"
        },
        "outputId": "682ccecd-17cb-4e6f-b8bb-52a2f6c74fca"
      },
      "outputs": [
        {
          "output_type": "execute_result",
          "data": {
            "text/plain": [
              "array([0., 0., 0., 0., 0., 0., 0., 0., 0., 0.])"
            ]
          },
          "metadata": {},
          "execution_count": 21
        }
      ],
      "source": [
        "array = np.zeros(10)\n",
        "array"
      ]
    },
    {
      "cell_type": "code",
      "source": [
        "array[4] = 1\n",
        "array"
      ],
      "metadata": {
        "colab": {
          "base_uri": "https://localhost:8080/"
        },
        "id": "9DgzWOpCcWtq",
        "outputId": "5fabd4e7-97e6-45e9-9933-6bd64a07595c"
      },
      "execution_count": null,
      "outputs": [
        {
          "output_type": "execute_result",
          "data": {
            "text/plain": [
              "array([0., 0., 0., 0., 1., 0., 0., 0., 0., 0.])"
            ]
          },
          "metadata": {},
          "execution_count": 23
        }
      ]
    },
    {
      "cell_type": "markdown",
      "metadata": {
        "id": "SOTWCIzANLbd"
      },
      "source": [
        "#### 7.  Create a vector with values ranging from 10 to 49 (★☆☆) \n",
        "(**hint**: np.arange)"
      ]
    },
    {
      "cell_type": "code",
      "execution_count": null,
      "metadata": {
        "id": "TbjS_II_NLbd",
        "colab": {
          "base_uri": "https://localhost:8080/"
        },
        "outputId": "c6104e64-0e6c-4cfb-ec81-9c281baeec49"
      },
      "outputs": [
        {
          "output_type": "execute_result",
          "data": {
            "text/plain": [
              "array([10, 11, 12, 13, 14, 15, 16, 17, 18, 19, 20, 21, 22, 23, 24, 25, 26,\n",
              "       27, 28, 29, 30, 31, 32, 33, 34, 35, 36, 37, 38, 39, 40, 41, 42, 43,\n",
              "       44, 45, 46, 47, 48, 49])"
            ]
          },
          "metadata": {},
          "execution_count": 26
        }
      ],
      "source": [
        "list = np.arange(10,50)\n",
        "list"
      ]
    },
    {
      "cell_type": "markdown",
      "metadata": {
        "id": "MY6JLQSsNLbe"
      },
      "source": [
        "#### 8.  Reverse a vector (first element becomes last) (★☆☆) \n",
        "(**hint**: array\\[::-1\\])"
      ]
    },
    {
      "cell_type": "code",
      "execution_count": null,
      "metadata": {
        "id": "rzXPGBqQNLbe",
        "colab": {
          "base_uri": "https://localhost:8080/"
        },
        "outputId": "1f3e3cb6-dec6-4443-8812-bfb946a375fc"
      },
      "outputs": [
        {
          "output_type": "execute_result",
          "data": {
            "text/plain": [
              "array([49, 48, 47, 46, 45, 44, 43, 42, 41, 40, 39, 38, 37, 36, 35, 34, 33,\n",
              "       32, 31, 30, 29, 28, 27, 26, 25, 24, 23, 22, 21, 20, 19, 18, 17, 16,\n",
              "       15, 14, 13, 12, 11, 10])"
            ]
          },
          "metadata": {},
          "execution_count": 28
        }
      ],
      "source": [
        "list[::-1]"
      ]
    },
    {
      "cell_type": "markdown",
      "metadata": {
        "id": "WaX8klAKNLbe"
      },
      "source": [
        "#### 9.  Create a 3x3 matrix with values ranging from 0 to 8 (★☆☆) \n",
        "(**hint**: reshape)"
      ]
    },
    {
      "cell_type": "code",
      "execution_count": null,
      "metadata": {
        "id": "veOj_E0wNLbe",
        "colab": {
          "base_uri": "https://localhost:8080/"
        },
        "outputId": "e9c3d207-71bc-406f-8c10-77458ea79aca"
      },
      "outputs": [
        {
          "output_type": "execute_result",
          "data": {
            "text/plain": [
              "array([[0, 1, 2],\n",
              "       [3, 4, 5],\n",
              "       [6, 7, 8]])"
            ]
          },
          "metadata": {},
          "execution_count": 29
        }
      ],
      "source": [
        "np.arange(0,9).reshape(3,3)"
      ]
    },
    {
      "cell_type": "markdown",
      "metadata": {
        "id": "tE6rQf3gNLbe"
      },
      "source": [
        "#### 10. Find indices of non-zero elements from \\[1,2,0,0,4,0\\] (★☆☆) \n",
        "(**hint**: np.nonzero)"
      ]
    },
    {
      "cell_type": "code",
      "execution_count": null,
      "metadata": {
        "id": "mgOxebkINLbf",
        "colab": {
          "base_uri": "https://localhost:8080/"
        },
        "outputId": "9813581f-b4c0-41ec-dcf2-d6b99ad4a743"
      },
      "outputs": [
        {
          "output_type": "execute_result",
          "data": {
            "text/plain": [
              "(array([0, 1, 4]),)"
            ]
          },
          "metadata": {},
          "execution_count": 30
        }
      ],
      "source": [
        "a = [1,2,0,0,4,0]\n",
        "np.nonzero(a)"
      ]
    },
    {
      "cell_type": "markdown",
      "metadata": {
        "id": "-4ukAq6pNLbf"
      },
      "source": [
        "#### 11. Create a 3x3 identity matrix (★☆☆) \n",
        "(**hint**: np.eye)"
      ]
    },
    {
      "cell_type": "code",
      "execution_count": null,
      "metadata": {
        "id": "cLQbXHsnNLbf",
        "colab": {
          "base_uri": "https://localhost:8080/"
        },
        "outputId": "ac9a2ede-1b46-4fd3-ed97-d1360de9b3db"
      },
      "outputs": [
        {
          "output_type": "execute_result",
          "data": {
            "text/plain": [
              "array([[1., 0., 0.],\n",
              "       [0., 1., 0.],\n",
              "       [0., 0., 1.]])"
            ]
          },
          "metadata": {},
          "execution_count": 31
        }
      ],
      "source": [
        "np.eye(3)"
      ]
    },
    {
      "cell_type": "markdown",
      "metadata": {
        "id": "C3CKkeoxNLbf"
      },
      "source": [
        "#### 12. Create a 3x3x3 array with random values (★☆☆) \n",
        "(**hint**: np.random.random)"
      ]
    },
    {
      "cell_type": "code",
      "execution_count": 6,
      "metadata": {
        "collapsed": true,
        "id": "5QUHdgerNLbg",
        "colab": {
          "base_uri": "https://localhost:8080/"
        },
        "outputId": "7825ca35-6cb4-4e35-b641-6a99449ca206"
      },
      "outputs": [
        {
          "output_type": "execute_result",
          "data": {
            "text/plain": [
              "array([[[0.59006669, 0.42470299, 0.61943117],\n",
              "        [0.78763443, 0.6641205 , 0.83579591],\n",
              "        [0.86048086, 0.21385943, 0.83833343]],\n",
              "\n",
              "       [[0.29707223, 0.68364948, 0.80925842],\n",
              "        [0.62976218, 0.70438747, 0.00250784],\n",
              "        [0.18894805, 0.40690312, 0.40710932]],\n",
              "\n",
              "       [[0.44913773, 0.57338488, 0.2372235 ],\n",
              "        [0.07933987, 0.94625785, 0.32016628],\n",
              "        [0.32577017, 0.81648414, 0.02890977]]])"
            ]
          },
          "metadata": {},
          "execution_count": 6
        }
      ],
      "source": [
        "np.random.random((3,3,3))"
      ]
    },
    {
      "cell_type": "markdown",
      "metadata": {
        "id": "MU21HLrVNLbg"
      },
      "source": [
        "#### 13. Create a 10x10 array with random values and find the minimum and maximum values (★☆☆) \n",
        "(**hint**: min, max)"
      ]
    },
    {
      "cell_type": "code",
      "execution_count": null,
      "metadata": {
        "id": "UuLqj446NLbg",
        "colab": {
          "base_uri": "https://localhost:8080/"
        },
        "outputId": "178e91f2-bd7b-4bdc-aa66-e5bf515d6005"
      },
      "outputs": [
        {
          "output_type": "execute_result",
          "data": {
            "text/plain": [
              "array([[0.12747372, 0.45960647, 0.70182364, 0.46816571, 0.14472851,\n",
              "        0.47426829, 0.76404442, 0.22244733, 0.33282326, 0.95203829],\n",
              "       [0.29472622, 0.95396353, 0.06282209, 0.36264027, 0.6172337 ,\n",
              "        0.42326987, 0.3988215 , 0.85357869, 0.49116723, 0.55507735],\n",
              "       [0.16131486, 0.77161491, 0.90313261, 0.26076863, 0.38005652,\n",
              "        0.0803016 , 0.42180281, 0.7530724 , 0.13012078, 0.62219779],\n",
              "       [0.50783101, 0.42455934, 0.10371027, 0.16732968, 0.43693798,\n",
              "        0.04100449, 0.02254536, 0.74382314, 0.87196322, 0.94795577],\n",
              "       [0.29033479, 0.89987259, 0.79541457, 0.56295569, 0.19607464,\n",
              "        0.70852745, 0.12376838, 0.06270121, 0.86522458, 0.64255026],\n",
              "       [0.45448166, 0.70952421, 0.88100183, 0.26938401, 0.24443087,\n",
              "        0.2462705 , 0.6906914 , 0.30692231, 0.59844837, 0.17338402],\n",
              "       [0.06497155, 0.39956955, 0.64371293, 0.38701803, 0.58614403,\n",
              "        0.94419305, 0.08973594, 0.81550406, 0.18340922, 0.46749071],\n",
              "       [0.50483758, 0.58385301, 0.52188795, 0.14273791, 0.24357983,\n",
              "        0.01819343, 0.9279853 , 0.9082216 , 0.63783554, 0.42918013],\n",
              "       [0.88379776, 0.91312523, 0.4271551 , 0.17282522, 0.36984451,\n",
              "        0.93201209, 0.16130331, 0.80020995, 0.46440349, 0.48320268],\n",
              "       [0.19988976, 0.19260414, 0.31048954, 0.00313514, 0.89799722,\n",
              "        0.74642527, 0.52482934, 0.61225079, 0.80170579, 0.75544405]])"
            ]
          },
          "metadata": {},
          "execution_count": 36
        }
      ],
      "source": [
        "arr = np.random.random((10,10))\n",
        "arr"
      ]
    },
    {
      "cell_type": "code",
      "source": [
        "np.min(arr)"
      ],
      "metadata": {
        "colab": {
          "base_uri": "https://localhost:8080/"
        },
        "id": "HHS04eo-lexr",
        "outputId": "bb7476b8-b352-411a-c73d-b3f3830d0100"
      },
      "execution_count": null,
      "outputs": [
        {
          "output_type": "execute_result",
          "data": {
            "text/plain": [
              "0.003135140024416949"
            ]
          },
          "metadata": {},
          "execution_count": 37
        }
      ]
    },
    {
      "cell_type": "code",
      "source": [
        "np.max(arr)"
      ],
      "metadata": {
        "colab": {
          "base_uri": "https://localhost:8080/"
        },
        "id": "k4Eb6kelle4l",
        "outputId": "fae16832-9f88-4d50-c92e-9e6666f096ff"
      },
      "execution_count": null,
      "outputs": [
        {
          "output_type": "execute_result",
          "data": {
            "text/plain": [
              "0.9539635298599999"
            ]
          },
          "metadata": {},
          "execution_count": 38
        }
      ]
    },
    {
      "cell_type": "markdown",
      "metadata": {
        "id": "nOpdMD1uNLbh"
      },
      "source": [
        "#### 14. Create a random vector of size 30 and find the mean value (★☆☆) \n",
        "(**hint**: mean)"
      ]
    },
    {
      "cell_type": "code",
      "execution_count": null,
      "metadata": {
        "id": "7Y5Cw9bDNLbk",
        "colab": {
          "base_uri": "https://localhost:8080/"
        },
        "outputId": "cfb39a5b-61e8-43e6-c456-8a94e536c1a9"
      },
      "outputs": [
        {
          "output_type": "execute_result",
          "data": {
            "text/plain": [
              "0.4825886130084681"
            ]
          },
          "metadata": {},
          "execution_count": 42
        }
      ],
      "source": [
        "l = np.random.random(30)\n",
        "l"
      ]
    },
    {
      "cell_type": "code",
      "source": [
        "l.mean()"
      ],
      "metadata": {
        "colab": {
          "base_uri": "https://localhost:8080/"
        },
        "id": "vviBTnqWmYUT",
        "outputId": "28727c45-d524-4629-dae7-09863339f9df"
      },
      "execution_count": null,
      "outputs": [
        {
          "output_type": "execute_result",
          "data": {
            "text/plain": [
              "0.4825886130084681"
            ]
          },
          "metadata": {},
          "execution_count": 43
        }
      ]
    },
    {
      "cell_type": "markdown",
      "metadata": {
        "id": "qVzqANVoNLbk"
      },
      "source": [
        "#### 15. Create a 2d array with 1 on the border and 0 inside (★☆☆) \n",
        "(**hint**: array\\[1:-1, 1:-1\\])"
      ]
    },
    {
      "cell_type": "code",
      "execution_count": null,
      "metadata": {
        "id": "uy7CoRmANLbk",
        "colab": {
          "base_uri": "https://localhost:8080/"
        },
        "outputId": "f77efcdd-e787-4bde-c22e-ab6c1d17be16"
      },
      "outputs": [
        {
          "output_type": "execute_result",
          "data": {
            "text/plain": [
              "array([[1., 1., 1., 1., 1.],\n",
              "       [1., 1., 1., 1., 1.],\n",
              "       [1., 1., 1., 1., 1.],\n",
              "       [1., 1., 1., 1., 1.],\n",
              "       [1., 1., 1., 1., 1.]])"
            ]
          },
          "metadata": {},
          "execution_count": 49
        }
      ],
      "source": [
        "x = np.ones((5,5))\n",
        "x"
      ]
    },
    {
      "cell_type": "code",
      "source": [
        "x[1:-1,1:-1]=0\n",
        "x"
      ],
      "metadata": {
        "colab": {
          "base_uri": "https://localhost:8080/"
        },
        "id": "gRVmyI1unEss",
        "outputId": "af8a40bf-b5f1-4be9-b401-673698979b3e"
      },
      "execution_count": null,
      "outputs": [
        {
          "output_type": "execute_result",
          "data": {
            "text/plain": [
              "array([[1., 1., 1., 1., 1.],\n",
              "       [1., 0., 0., 0., 1.],\n",
              "       [1., 0., 0., 0., 1.],\n",
              "       [1., 0., 0., 0., 1.],\n",
              "       [1., 1., 1., 1., 1.]])"
            ]
          },
          "metadata": {},
          "execution_count": 50
        }
      ]
    },
    {
      "cell_type": "markdown",
      "metadata": {
        "id": "DToXd7L-NLbk"
      },
      "source": [
        "#### 16. How to add a border (filled with 0's) around an existing array? (★☆☆) \n",
        "(**hint**: np.pad)"
      ]
    },
    {
      "cell_type": "code",
      "execution_count": null,
      "metadata": {
        "id": "pzmkvRwzNLbl",
        "colab": {
          "base_uri": "https://localhost:8080/"
        },
        "outputId": "b37ae75d-2d45-47e3-942d-c98f6d9add34"
      },
      "outputs": [
        {
          "output_type": "execute_result",
          "data": {
            "text/plain": [
              "array([[0., 0., 0., 0., 0., 0., 0.],\n",
              "       [0., 1., 1., 1., 1., 1., 0.],\n",
              "       [0., 1., 0., 0., 0., 1., 0.],\n",
              "       [0., 1., 0., 0., 0., 1., 0.],\n",
              "       [0., 1., 0., 0., 0., 1., 0.],\n",
              "       [0., 1., 1., 1., 1., 1., 0.],\n",
              "       [0., 0., 0., 0., 0., 0., 0.]])"
            ]
          },
          "metadata": {},
          "execution_count": 54
        }
      ],
      "source": [
        "np.pad(x,pad_width = 1, constant_values = 0)"
      ]
    },
    {
      "cell_type": "markdown",
      "metadata": {
        "id": "iSDt1XGYNLbl"
      },
      "source": [
        "#### 17. What is the result of the following expression? (★☆☆) \n",
        "(**hint**: NaN = not a number, inf = infinity)"
      ]
    },
    {
      "cell_type": "markdown",
      "metadata": {
        "id": "AudPqwMBNLbl"
      },
      "source": [
        "```python\n",
        "0 * np.nan\n",
        "np.nan == np.nan\n",
        "np.inf > np.nan\n",
        "np.nan - np.nan\n",
        "0.3 == 3 * 0.1\n",
        "```"
      ]
    },
    {
      "cell_type": "code",
      "execution_count": null,
      "metadata": {
        "id": "m1EN47zNNLbl",
        "colab": {
          "base_uri": "https://localhost:8080/"
        },
        "outputId": "b20978c4-e11d-47f6-db52-2da33d8f78e4"
      },
      "outputs": [
        {
          "output_type": "stream",
          "name": "stdout",
          "text": [
            "nan\n",
            "False\n",
            "False\n",
            "nan\n",
            "True\n",
            "False\n"
          ]
        }
      ],
      "source": [
        "print(0 * np.nan)\n",
        "print(np.nan == np.nan)\n",
        "print(np.inf > np.nan)\n",
        "print(np.nan - np.nan)\n",
        "print(np.nan in set([np.nan]))\n",
        "print(0.3 == 3 * 0.1)\n"
      ]
    },
    {
      "cell_type": "markdown",
      "metadata": {
        "id": "6Z4V5tnKNLbl"
      },
      "source": [
        "#### 18. Create a 5x5 matrix with values 1,2,3,4 just below the diagonal (★☆☆) \n",
        "(**hint**: np.diag)"
      ]
    },
    {
      "cell_type": "code",
      "execution_count": null,
      "metadata": {
        "id": "G6KICxj7NLbm",
        "colab": {
          "base_uri": "https://localhost:8080/"
        },
        "outputId": "982d7ae4-852d-4309-c76e-e372b23f33f0"
      },
      "outputs": [
        {
          "output_type": "execute_result",
          "data": {
            "text/plain": [
              "array([[0, 0, 0, 0, 0],\n",
              "       [0, 1, 0, 0, 0],\n",
              "       [0, 0, 2, 0, 0],\n",
              "       [0, 0, 0, 3, 0],\n",
              "       [0, 0, 0, 0, 4]])"
            ]
          },
          "metadata": {},
          "execution_count": 59
        }
      ],
      "source": [
        "np.diag([0,1,2,3,4])"
      ]
    },
    {
      "cell_type": "markdown",
      "metadata": {
        "id": "jzz1Q6dlNLbm"
      },
      "source": [
        "#### 19. Create a 8x8 matrix and fill it with a checkerboard pattern (★☆☆) \n",
        "(**hint**: array\\[::2\\])"
      ]
    },
    {
      "cell_type": "code",
      "execution_count": null,
      "metadata": {
        "id": "rJvmYOoYNLbm",
        "colab": {
          "base_uri": "https://localhost:8080/"
        },
        "outputId": "48c4b81b-87c1-4dda-fd41-b3048ac20957"
      },
      "outputs": [
        {
          "output_type": "execute_result",
          "data": {
            "text/plain": [
              "array([[0, 1, 0, 1, 0, 1, 0, 1],\n",
              "       [1, 0, 1, 0, 1, 0, 1, 0],\n",
              "       [0, 1, 0, 1, 0, 1, 0, 1],\n",
              "       [1, 0, 1, 0, 1, 0, 1, 0],\n",
              "       [0, 1, 0, 1, 0, 1, 0, 1],\n",
              "       [1, 0, 1, 0, 1, 0, 1, 0],\n",
              "       [0, 1, 0, 1, 0, 1, 0, 1],\n",
              "       [1, 0, 1, 0, 1, 0, 1, 0]])"
            ]
          },
          "metadata": {},
          "execution_count": 66
        }
      ],
      "source": [
        "x = np.zeros((8,8),dtype=int)\n",
        "x[1::2,::2] = 1\n",
        "x[::2,1::2] = 1\n",
        "x"
      ]
    },
    {
      "cell_type": "markdown",
      "metadata": {
        "id": "ERJBSVJZNLbm"
      },
      "source": [
        "#### 20. Consider a (6,7,8) shape array, what is the index (x,y,z) of the 100th element? \n",
        "(**hint**: np.unravel_index)"
      ]
    },
    {
      "cell_type": "code",
      "execution_count": null,
      "metadata": {
        "id": "DC1_cMe9NLbm",
        "colab": {
          "base_uri": "https://localhost:8080/"
        },
        "outputId": "320938d6-30fc-4f32-85f6-f885ad7a301d"
      },
      "outputs": [
        {
          "output_type": "execute_result",
          "data": {
            "text/plain": [
              "(1, 5, 4)"
            ]
          },
          "metadata": {},
          "execution_count": 69
        }
      ],
      "source": [
        "np.unravel_index(99,(6,7,8))"
      ]
    },
    {
      "cell_type": "markdown",
      "metadata": {
        "id": "PliFg_jZNLbm"
      },
      "source": [
        "#### 21. Create a checkerboard 8x8 matrix using the tile function (★☆☆) \n",
        "(**hint**: np.tile)"
      ]
    },
    {
      "cell_type": "code",
      "execution_count": null,
      "metadata": {
        "id": "7mezkUy1NLbm",
        "colab": {
          "base_uri": "https://localhost:8080/"
        },
        "outputId": "072cc5f2-a38b-43a8-fed3-02afdf656b69"
      },
      "outputs": [
        {
          "output_type": "execute_result",
          "data": {
            "text/plain": [
              "array([[0, 1, 0, 1, 0, 1, 0, 1],\n",
              "       [1, 0, 1, 0, 1, 0, 1, 0],\n",
              "       [0, 1, 0, 1, 0, 1, 0, 1],\n",
              "       [1, 0, 1, 0, 1, 0, 1, 0],\n",
              "       [0, 1, 0, 1, 0, 1, 0, 1],\n",
              "       [1, 0, 1, 0, 1, 0, 1, 0],\n",
              "       [0, 1, 0, 1, 0, 1, 0, 1],\n",
              "       [1, 0, 1, 0, 1, 0, 1, 0]])"
            ]
          },
          "metadata": {},
          "execution_count": 76
        }
      ],
      "source": [
        "a = np.zeros(8, dtype=int)\n",
        "x = np.tile(a,(8,1))\n",
        "x[1::2,::2] = 1\n",
        "x[::2,1::2] = 1\n",
        "x"
      ]
    },
    {
      "cell_type": "markdown",
      "metadata": {
        "id": "KDYhN_hzNLbn"
      },
      "source": [
        "#### 22. Normalize a 5x5 random matrix (★☆☆) \n",
        "(**hint**: (x - min) / (max - min))"
      ]
    },
    {
      "cell_type": "code",
      "execution_count": null,
      "metadata": {
        "id": "Q0HYhpo2NLbn",
        "colab": {
          "base_uri": "https://localhost:8080/"
        },
        "outputId": "b072caaa-d267-4ea3-bea5-71cead7f939d"
      },
      "outputs": [
        {
          "output_type": "execute_result",
          "data": {
            "text/plain": [
              "array([[0.16912273, 0.41677042, 0.55566921, 0.84228823, 0.35470332],\n",
              "       [0.85712967, 0.00941015, 0.28055352, 0.        , 0.61771037],\n",
              "       [0.58629555, 0.76939193, 0.77781175, 0.12459435, 1.        ],\n",
              "       [0.25682941, 0.94018196, 0.81482627, 0.82159514, 0.87362025],\n",
              "       [0.59981321, 0.28104981, 0.81297623, 0.01282514, 0.6583703 ]])"
            ]
          },
          "metadata": {},
          "execution_count": 77
        }
      ],
      "source": [
        "x = np.random.random((5,5))\n",
        "x = (x - x.min())/(x.max() - x.min())\n",
        "x"
      ]
    },
    {
      "cell_type": "markdown",
      "metadata": {
        "id": "UKJaIcJENLbn"
      },
      "source": [
        "#### 23. Create a custom dtype that describes a color as four unsigned bytes (RGBA) (★☆☆) \n",
        "(**hint**: np.dtype)"
      ]
    },
    {
      "cell_type": "code",
      "execution_count": null,
      "metadata": {
        "collapsed": true,
        "id": "BI5bCYXfNLbn",
        "colab": {
          "base_uri": "https://localhost:8080/"
        },
        "outputId": "e199503d-b517-4d1c-d632-80a230feabed"
      },
      "outputs": [
        {
          "output_type": "execute_result",
          "data": {
            "text/plain": [
              "dtype([('r', 'u1'), ('g', 'u1'), ('b', 'u1'), ('a', 'u1')])"
            ]
          },
          "metadata": {},
          "execution_count": 81
        }
      ],
      "source": [
        "color = np.dtype([(\"r\", np.ubyte),\n",
        "                  (\"g\", np.ubyte),\n",
        "                  (\"b\", np.ubyte),\n",
        "                  (\"a\", np.ubyte)])\n",
        "color"
      ]
    },
    {
      "cell_type": "markdown",
      "metadata": {
        "id": "DNG9fxjmNLbn"
      },
      "source": [
        "#### 24. Multiply a 5x3 matrix by a 3x2 matrix (real matrix product) (★☆☆) \n",
        "(**hint**: np.dot | @)"
      ]
    },
    {
      "cell_type": "code",
      "execution_count": null,
      "metadata": {
        "id": "IcQ0fABiNLbn",
        "colab": {
          "base_uri": "https://localhost:8080/"
        },
        "outputId": "773339d1-be5a-4dfa-ea2d-b4a06940b47c"
      },
      "outputs": [
        {
          "output_type": "execute_result",
          "data": {
            "text/plain": [
              "array([[1.06729364, 0.83274531],\n",
              "       [1.03856453, 0.53002989],\n",
              "       [1.46081326, 0.4186524 ],\n",
              "       [1.54221426, 0.91104079],\n",
              "       [0.8042002 , 0.36765638]])"
            ]
          },
          "metadata": {},
          "execution_count": 85
        }
      ],
      "source": [
        "x = np.random.random((5,3))\n",
        "y = np.random.random((3,2))\n",
        "z = np.dot(x,y)\n",
        "z"
      ]
    },
    {
      "cell_type": "markdown",
      "metadata": {
        "id": "pX6sh02_NLbn"
      },
      "source": [
        "#### 25. Given a 1D array, negate all elements which are between 3 and 8, in place. (★☆☆) \n",
        "(**hint**: >, <=)"
      ]
    },
    {
      "cell_type": "code",
      "execution_count": null,
      "metadata": {
        "id": "Iar_5HXqNLbn",
        "colab": {
          "base_uri": "https://localhost:8080/"
        },
        "outputId": "fa4df65c-486b-47cd-f918-036969b50bad"
      },
      "outputs": [
        {
          "output_type": "execute_result",
          "data": {
            "text/plain": [
              "array([ 0,  1,  2,  3,  4,  5,  6,  7,  8,  9, 10])"
            ]
          },
          "metadata": {},
          "execution_count": 89
        }
      ],
      "source": [
        "arr = np.arange(11)\n",
        "arr"
      ]
    },
    {
      "cell_type": "code",
      "source": [
        "n = (arr>2) & (arr <8)\n",
        "arr[n] *= -1\n",
        "arr"
      ],
      "metadata": {
        "colab": {
          "base_uri": "https://localhost:8080/"
        },
        "id": "NDIUL2YV3ASK",
        "outputId": "cd1412b4-c5d1-4f27-8d2d-fd65eddb911b"
      },
      "execution_count": null,
      "outputs": [
        {
          "output_type": "execute_result",
          "data": {
            "text/plain": [
              "array([ 0,  1,  2, -3, -4, -5, -6, -7,  8,  9, 10])"
            ]
          },
          "metadata": {},
          "execution_count": 90
        }
      ]
    },
    {
      "cell_type": "markdown",
      "metadata": {
        "id": "vBe1Awf0NLbo"
      },
      "source": [
        "#### 26. What is the output of the following script? (★☆☆) \n",
        "(**hint**: np.sum)"
      ]
    },
    {
      "cell_type": "markdown",
      "metadata": {
        "id": "BzFgak1LNLbo"
      },
      "source": [
        "```python\n",
        "# Author: Jake VanderPlas\n",
        "\n",
        "print(sum(range(5),-1))\n",
        "from numpy import *\n",
        "print(sum(range(5),-1))\n",
        "```"
      ]
    },
    {
      "cell_type": "code",
      "source": [
        "print(sum(range(5),-1))"
      ],
      "metadata": {
        "colab": {
          "base_uri": "https://localhost:8080/"
        },
        "id": "0-Itqmx432T9",
        "outputId": "d0c96b56-87d7-431c-e585-0c6c1afe74bd"
      },
      "execution_count": null,
      "outputs": [
        {
          "output_type": "stream",
          "name": "stdout",
          "text": [
            "10\n"
          ]
        }
      ]
    },
    {
      "cell_type": "code",
      "source": [
        "from numpy import *\n",
        "print(sum(range(5),-1))"
      ],
      "metadata": {
        "colab": {
          "base_uri": "https://localhost:8080/"
        },
        "id": "E2kaqSp_32ZO",
        "outputId": "6d97c285-67f7-4837-b66a-b4f081de9404"
      },
      "execution_count": null,
      "outputs": [
        {
          "output_type": "stream",
          "name": "stdout",
          "text": [
            "10\n"
          ]
        }
      ]
    },
    {
      "cell_type": "markdown",
      "metadata": {
        "id": "76ijs1zHNLbo"
      },
      "source": [
        "#### 27. Consider an integer vector Z, which of these expressions are legal? (★☆☆)"
      ]
    },
    {
      "cell_type": "markdown",
      "metadata": {
        "id": "oG0KZc2ANLbo"
      },
      "source": [
        "```python\n",
        "Z**Z\n",
        "2 << Z >> 2\n",
        "Z <- Z\n",
        "1j*Z\n",
        "Z/1/1\n",
        "Z<Z>Z\n",
        "```"
      ]
    },
    {
      "cell_type": "code",
      "execution_count": null,
      "metadata": {
        "id": "sKAWkYHGNLbo",
        "colab": {
          "base_uri": "https://localhost:8080/"
        },
        "outputId": "860f7b30-cf06-4a4d-8096-91cb8683f3a7"
      },
      "outputs": [
        {
          "output_type": "stream",
          "name": "stdout",
          "text": [
            "27\n",
            "4\n",
            "False\n",
            "3j\n",
            "3.0\n",
            "False\n"
          ]
        }
      ],
      "source": [
        "Z = 3\n",
        "print(Z**Z)\n",
        "print(2 << Z >> 2)\n",
        "print(Z <- Z)\n",
        "print(1j*Z)\n",
        "print(Z/1/1)\n",
        "print(Z<Z>Z)"
      ]
    },
    {
      "cell_type": "markdown",
      "metadata": {
        "id": "qw6ttMiHNLbo"
      },
      "source": [
        "#### 28. What are the result of the following expressions?"
      ]
    },
    {
      "cell_type": "markdown",
      "metadata": {
        "id": "Yx-XC1vpNLbo"
      },
      "source": [
        "```python\n",
        "np.array(0) / np.array(0)\n",
        "np.array(0) // np.array(0)\n",
        "np.array([np.nan]).astype(int).astype(float)\n",
        "```"
      ]
    },
    {
      "cell_type": "code",
      "execution_count": null,
      "metadata": {
        "id": "ccsZ7DM-NLbo",
        "colab": {
          "base_uri": "https://localhost:8080/"
        },
        "outputId": "4548e877-8294-4c71-c58d-2d41e3eb8c69"
      },
      "outputs": [
        {
          "output_type": "stream",
          "name": "stdout",
          "text": [
            "nan\n",
            "0\n",
            "[-9.22337204e+18]\n"
          ]
        },
        {
          "output_type": "stream",
          "name": "stderr",
          "text": [
            "/usr/local/lib/python3.7/dist-packages/ipykernel_launcher.py:1: RuntimeWarning: invalid value encountered in true_divide\n",
            "  \"\"\"Entry point for launching an IPython kernel.\n",
            "/usr/local/lib/python3.7/dist-packages/ipykernel_launcher.py:2: RuntimeWarning: divide by zero encountered in floor_divide\n",
            "  \n"
          ]
        }
      ],
      "source": [
        "print(np.array(0) / np.array(0))\n",
        "print(np.array(0) // np.array(0))\n",
        "print(np.array([np.nan]).astype(int).astype(float))"
      ]
    },
    {
      "cell_type": "markdown",
      "metadata": {
        "id": "0KBvPeVlNLbp"
      },
      "source": [
        "#### 29. How to round away from zero a float array ? (★☆☆) \n",
        "(**hint**: np.uniform, np.copysign, np.ceil, np.abs)"
      ]
    },
    {
      "cell_type": "code",
      "execution_count": null,
      "metadata": {
        "id": "TncC9Fi3NLbp",
        "colab": {
          "base_uri": "https://localhost:8080/"
        },
        "outputId": "38e088b7-b48f-40ec-fc14-5eca4a315c8c"
      },
      "outputs": [
        {
          "output_type": "execute_result",
          "data": {
            "text/plain": [
              "array([-3.878737  ,  3.66479567,  1.22381371,  4.13722232, -2.26399221,\n",
              "       -0.52767032,  1.85945069,  4.64531184,  0.94441497,  1.59303865])"
            ]
          },
          "metadata": {},
          "execution_count": 106
        }
      ],
      "source": [
        "s = np.random.uniform(-5,5,10)\n",
        "s"
      ]
    },
    {
      "cell_type": "code",
      "source": [
        "x = np.ceil(np.abs(s),s)\n",
        "x"
      ],
      "metadata": {
        "colab": {
          "base_uri": "https://localhost:8080/"
        },
        "id": "11IuONRk6npb",
        "outputId": "9bb1ebd4-4657-4538-8fce-d20cbc8752cd"
      },
      "execution_count": null,
      "outputs": [
        {
          "output_type": "execute_result",
          "data": {
            "text/plain": [
              "array([4., 4., 2., 5., 3., 1., 2., 5., 1., 2.])"
            ]
          },
          "metadata": {},
          "execution_count": 111
        }
      ]
    },
    {
      "cell_type": "code",
      "source": [
        "np.copysign(x, s)"
      ],
      "metadata": {
        "colab": {
          "base_uri": "https://localhost:8080/"
        },
        "id": "_WNfgGiA6nsw",
        "outputId": "4120c9a8-9ade-457c-cb35-2c5df3ccc8eb"
      },
      "execution_count": null,
      "outputs": [
        {
          "output_type": "execute_result",
          "data": {
            "text/plain": [
              "array([4., 4., 2., 5., 3., 1., 2., 5., 1., 2.])"
            ]
          },
          "metadata": {},
          "execution_count": 117
        }
      ]
    },
    {
      "cell_type": "markdown",
      "metadata": {
        "id": "P402RupyNLbp"
      },
      "source": [
        "#### 30. How to find common values between two arrays? (★☆☆) \n",
        "(**hint**: np.intersect1d)"
      ]
    },
    {
      "cell_type": "code",
      "execution_count": null,
      "metadata": {
        "id": "1I2gFtZQNLbp",
        "colab": {
          "base_uri": "https://localhost:8080/"
        },
        "outputId": "64a11344-6543-4478-a1b7-74ebc1971279"
      },
      "outputs": [
        {
          "output_type": "execute_result",
          "data": {
            "text/plain": [
              "array([15, 16, 17, 18, 19])"
            ]
          },
          "metadata": {},
          "execution_count": 120
        }
      ],
      "source": [
        "x = np.arange(5,20)\n",
        "y = np.arange(15,30)\n",
        "np.intersect1d(x,y)\n"
      ]
    },
    {
      "cell_type": "markdown",
      "metadata": {
        "id": "7LGAq6ewNLbp"
      },
      "source": [
        "#### 31. How to ignore all numpy warnings (not recommended)? (★☆☆) \n",
        "(**hint**: np.seterr, np.errstate)"
      ]
    },
    {
      "cell_type": "code",
      "source": [
        "z = np.seterr(all='ignore')\n",
        "np.ones(2)/0\n",
        "np.seterr(**z)"
      ],
      "metadata": {
        "colab": {
          "base_uri": "https://localhost:8080/"
        },
        "id": "VVAwt_bmJ-Ef",
        "outputId": "c5f89282-7cf0-4d52-f9a6-682b70866118"
      },
      "execution_count": null,
      "outputs": [
        {
          "output_type": "execute_result",
          "data": {
            "text/plain": [
              "{'divide': 'ignore', 'over': 'ignore', 'under': 'ignore', 'invalid': 'ignore'}"
            ]
          },
          "metadata": {},
          "execution_count": 137
        }
      ]
    },
    {
      "cell_type": "code",
      "execution_count": null,
      "metadata": {
        "id": "LpZp0-DJNLbp",
        "colab": {
          "base_uri": "https://localhost:8080/"
        },
        "outputId": "69975cb0-b6a0-4a93-dbcf-ee7ea244bb0c"
      },
      "outputs": [
        {
          "output_type": "execute_result",
          "data": {
            "text/plain": [
              "array([nan, inf, inf])"
            ]
          },
          "metadata": {},
          "execution_count": 141
        }
      ],
      "source": [
        "x = np.errstate(all='ignore')\n",
        "np.arange(3) / 0\n"
      ]
    },
    {
      "cell_type": "markdown",
      "metadata": {
        "id": "w7AeptebNLbp"
      },
      "source": [
        "#### 32. Is the following expressions true? (★☆☆) \n",
        "(**hint**: imaginary number)"
      ]
    },
    {
      "cell_type": "markdown",
      "metadata": {
        "id": "J0KF5F1DNLbq"
      },
      "source": [
        "```python\n",
        "np.sqrt(-1) == np.emath.sqrt(-1)\n",
        "```"
      ]
    },
    {
      "cell_type": "code",
      "execution_count": null,
      "metadata": {
        "id": "Sju-A0PxNLbq",
        "colab": {
          "base_uri": "https://localhost:8080/"
        },
        "outputId": "0e71cb03-2341-456f-e0af-db8bd6e631e0"
      },
      "outputs": [
        {
          "output_type": "execute_result",
          "data": {
            "text/plain": [
              "False"
            ]
          },
          "metadata": {},
          "execution_count": 143
        }
      ],
      "source": [
        "np.sqrt(-1) == np.emath.sqrt(-1)"
      ]
    },
    {
      "cell_type": "markdown",
      "metadata": {
        "id": "U6t2Ibf-NLbq"
      },
      "source": [
        "#### 33. How to get the dates of yesterday, today and tomorrow? (★☆☆) \n",
        "(**hint**: np.datetime64, np.timedelta64)"
      ]
    },
    {
      "cell_type": "code",
      "execution_count": null,
      "metadata": {
        "collapsed": true,
        "id": "DXFPkgFcNLbq",
        "colab": {
          "base_uri": "https://localhost:8080/"
        },
        "outputId": "32bf4838-d6f3-4710-9acb-516321332c91"
      },
      "outputs": [
        {
          "output_type": "execute_result",
          "data": {
            "text/plain": [
              "numpy.datetime64('2022-11-04')"
            ]
          },
          "metadata": {},
          "execution_count": 144
        }
      ],
      "source": [
        "yesterday = np.datetime64('today', 'D') - np.timedelta64(1, 'D')\n",
        "yesterday"
      ]
    },
    {
      "cell_type": "code",
      "source": [
        "today = np.datetime64('today', 'D')\n",
        "today"
      ],
      "metadata": {
        "colab": {
          "base_uri": "https://localhost:8080/"
        },
        "id": "-bbOvaUXQykt",
        "outputId": "2e9dbbc4-ab59-40c6-cf34-29874991326a"
      },
      "execution_count": null,
      "outputs": [
        {
          "output_type": "execute_result",
          "data": {
            "text/plain": [
              "numpy.datetime64('2022-11-05')"
            ]
          },
          "metadata": {},
          "execution_count": 145
        }
      ]
    },
    {
      "cell_type": "code",
      "source": [
        "tomorrow  = np.datetime64('today', 'D') + np.timedelta64(1, 'D')\n",
        "tomorrow"
      ],
      "metadata": {
        "colab": {
          "base_uri": "https://localhost:8080/"
        },
        "id": "P0pRNe5RQyqc",
        "outputId": "c5605861-e709-47ec-a366-d95c163a89c7"
      },
      "execution_count": null,
      "outputs": [
        {
          "output_type": "execute_result",
          "data": {
            "text/plain": [
              "numpy.datetime64('2022-11-06')"
            ]
          },
          "metadata": {},
          "execution_count": 146
        }
      ]
    },
    {
      "cell_type": "markdown",
      "metadata": {
        "id": "l3DtDBGxNLbq"
      },
      "source": [
        "#### 34. How to get all the dates corresponding to the month of July 2016? (★★☆) \n",
        "(**hint**: np.arange(dtype=datetime64\\['D'\\]))"
      ]
    },
    {
      "cell_type": "code",
      "execution_count": null,
      "metadata": {
        "id": "UYTGY2WgNLbq",
        "colab": {
          "base_uri": "https://localhost:8080/"
        },
        "outputId": "1172a42d-01fe-42c8-fd8a-28c6db140a89"
      },
      "outputs": [
        {
          "output_type": "execute_result",
          "data": {
            "text/plain": [
              "array(['2016-07-01', '2016-07-02', '2016-07-03', '2016-07-04',\n",
              "       '2016-07-05', '2016-07-06', '2016-07-07', '2016-07-08',\n",
              "       '2016-07-09', '2016-07-10', '2016-07-11', '2016-07-12',\n",
              "       '2016-07-13', '2016-07-14', '2016-07-15', '2016-07-16',\n",
              "       '2016-07-17', '2016-07-18', '2016-07-19', '2016-07-20',\n",
              "       '2016-07-21', '2016-07-22', '2016-07-23', '2016-07-24',\n",
              "       '2016-07-25', '2016-07-26', '2016-07-27', '2016-07-28',\n",
              "       '2016-07-29', '2016-07-30', '2016-07-31'], dtype='datetime64[D]')"
            ]
          },
          "metadata": {},
          "execution_count": 150
        }
      ],
      "source": [
        "np.arange('2016-07', '2016-08', dtype='datetime64[D]')"
      ]
    },
    {
      "cell_type": "markdown",
      "metadata": {
        "id": "mENtF02ONLbr"
      },
      "source": [
        "#### 35. How to compute ((A+B)\\*(-A/2)) in place (without copy)? (★★☆) \n",
        "(**hint**: np.add(out=), np.negative(out=), np.multiply(out=), np.divide(out=))"
      ]
    },
    {
      "cell_type": "code",
      "execution_count": null,
      "metadata": {
        "id": "_0OVLaNINLbr",
        "colab": {
          "base_uri": "https://localhost:8080/"
        },
        "outputId": "59c9a35e-278c-4e06-f07a-37c4ebd21aa3"
      },
      "outputs": [
        {
          "output_type": "stream",
          "name": "stdout",
          "text": [
            "[3.]\n",
            "[1.]\n",
            "[-1.]\n",
            "[-3.]\n"
          ]
        }
      ],
      "source": [
        "A = np.ones(1)*2\n",
        "B = np.ones(1)*1\n",
        "print(np.add(A,B,out=B))\n",
        "print(np.divide(A,2,out=A))\n",
        "print(np.negative(A,out=A))\n",
        "print(np.multiply(A,B,out=A))"
      ]
    },
    {
      "cell_type": "markdown",
      "metadata": {
        "id": "DSjRlVCNNLbr"
      },
      "source": [
        "#### 36. Extract the integer part of a random array using 5 different methods (★★☆) \n",
        "(**hint**: %, np.floor, np.ceil, astype, np.trunc)"
      ]
    },
    {
      "cell_type": "code",
      "execution_count": null,
      "metadata": {
        "id": "0If6ayGKNLbr",
        "colab": {
          "base_uri": "https://localhost:8080/"
        },
        "outputId": "db76ac2f-e66f-4cd2-d571-761e0ccc2f7e"
      },
      "outputs": [
        {
          "output_type": "stream",
          "name": "stdout",
          "text": [
            "[7. 4. 0. 3. 7. 6. 3. 6. 0. 9.]\n",
            "[7. 4. 0. 3. 7. 6. 3. 6. 0. 9.]\n",
            "[ 8.  5.  1.  4.  8.  7.  4.  7.  1. 10.]\n",
            "[7 4 0 3 7 6 3 6 0 9]\n",
            "[7. 4. 0. 3. 7. 6. 3. 6. 0. 9.]\n"
          ]
        }
      ],
      "source": [
        "z = np.random.uniform(0,10,10)\n",
        "print(z - z%1)\n",
        "print(np.floor(z))\n",
        "print(np.ceil(z))\n",
        "print(z.astype(int))\n",
        "print(np.trunc(z))"
      ]
    },
    {
      "cell_type": "markdown",
      "metadata": {
        "id": "XdUPjgARNLbr"
      },
      "source": [
        "#### 37. Create a 5x5 matrix with row values ranging from 0 to 4 (★★☆) \n",
        "(**hint**: np.arange)"
      ]
    },
    {
      "cell_type": "code",
      "execution_count": null,
      "metadata": {
        "id": "Zy06ycUQNLbr",
        "colab": {
          "base_uri": "https://localhost:8080/"
        },
        "outputId": "c57e4058-98b9-4991-cc75-22e8535acf0b"
      },
      "outputs": [
        {
          "output_type": "execute_result",
          "data": {
            "text/plain": [
              "array([[0, 1, 2, 3, 4],\n",
              "       [0, 1, 2, 3, 4],\n",
              "       [0, 1, 2, 3, 4],\n",
              "       [0, 1, 2, 3, 4],\n",
              "       [0, 1, 2, 3, 4]])"
            ]
          },
          "metadata": {},
          "execution_count": 165
        }
      ],
      "source": [
        "x = np.zeros((5,5),dtype = int)\n",
        "x += np.arange(5)\n",
        "x"
      ]
    },
    {
      "cell_type": "markdown",
      "metadata": {
        "id": "zool7q3JNLbs"
      },
      "source": [
        "#### 38. Consider a generator function that generates 10 integers and use it to build an array (★☆☆) \n",
        "(**hint**: np.fromiter)"
      ]
    },
    {
      "cell_type": "code",
      "execution_count": null,
      "metadata": {
        "id": "u5TUiwmPNLbs",
        "colab": {
          "base_uri": "https://localhost:8080/"
        },
        "outputId": "2607f64d-efb3-4872-a4a1-a7abd829952b"
      },
      "outputs": [
        {
          "output_type": "execute_result",
          "data": {
            "text/plain": [
              "array([0, 1, 2, 3, 4, 5, 6, 7, 8, 9])"
            ]
          },
          "metadata": {},
          "execution_count": 166
        }
      ],
      "source": [
        "def generate():\n",
        "    for i in range(10):\n",
        "        yield i\n",
        "x = np.fromiter(generate(),dtype=int,count=-1)\n",
        "x"
      ]
    },
    {
      "cell_type": "markdown",
      "metadata": {
        "id": "7AIRokfYNLbs"
      },
      "source": [
        "#### 39. Create a vector of size 10 with values ranging from 0 to 1, both excluded (★★☆) \n",
        "(**hint**: np.linspace)"
      ]
    },
    {
      "cell_type": "code",
      "execution_count": null,
      "metadata": {
        "id": "WlthD083NLbs",
        "colab": {
          "base_uri": "https://localhost:8080/"
        },
        "outputId": "b757db3e-ae37-4950-80e5-ac66f761592c"
      },
      "outputs": [
        {
          "output_type": "execute_result",
          "data": {
            "text/plain": [
              "array([0.08333333, 0.16666667, 0.25      , 0.33333333, 0.41666667,\n",
              "       0.5       , 0.58333333, 0.66666667, 0.75      , 0.83333333])"
            ]
          },
          "metadata": {},
          "execution_count": 171
        }
      ],
      "source": [
        "np.linspace(0, 1 ,num =12, endpoint=False)[1:-1]"
      ]
    },
    {
      "cell_type": "markdown",
      "metadata": {
        "id": "4mmey6QFNLbs"
      },
      "source": [
        "#### 40. Create a random vector of size 10 and sort it (★★☆) \n",
        "(**hint**: sort)"
      ]
    },
    {
      "cell_type": "code",
      "execution_count": null,
      "metadata": {
        "id": "VTMY9wnDNLbs",
        "colab": {
          "base_uri": "https://localhost:8080/"
        },
        "outputId": "e9c758d5-2416-4025-a004-7777024e326a"
      },
      "outputs": [
        {
          "output_type": "execute_result",
          "data": {
            "text/plain": [
              "array([0.11233469, 0.13747973, 0.18983528, 0.33986533, 0.38814465,\n",
              "       0.39228459, 0.4815119 , 0.55320899, 0.70400307, 0.81647208])"
            ]
          },
          "metadata": {},
          "execution_count": 177
        }
      ],
      "source": [
        "a = np.random.random(10)\n",
        "a.sort()\n",
        "a"
      ]
    },
    {
      "cell_type": "markdown",
      "metadata": {
        "id": "VaviKayUNLbs"
      },
      "source": [
        "#### 41. How to sum a small array faster than np.sum? (★★☆) \n",
        "(**hint**: np.add.reduce)"
      ]
    },
    {
      "cell_type": "code",
      "execution_count": null,
      "metadata": {
        "id": "21oqhlG9NLbt",
        "colab": {
          "base_uri": "https://localhost:8080/"
        },
        "outputId": "a3bc8764-c9e4-4348-bdc0-2b865d0eaa2c"
      },
      "outputs": [
        {
          "output_type": "execute_result",
          "data": {
            "text/plain": [
              "45"
            ]
          },
          "metadata": {},
          "execution_count": 178
        }
      ],
      "source": [
        "z = np.arange(10)\n",
        "np.add.reduce(z)"
      ]
    },
    {
      "cell_type": "markdown",
      "metadata": {
        "id": "QCwQnyqxNLbt"
      },
      "source": [
        "#### 42. Consider two random array A and B, check if they are equal (★★☆) \n",
        "(**hint**: np.allclose, np.array\\_equal)"
      ]
    },
    {
      "cell_type": "code",
      "execution_count": null,
      "metadata": {
        "id": "VFBh73f2NLbt",
        "colab": {
          "base_uri": "https://localhost:8080/"
        },
        "outputId": "2402d7ec-6993-463f-f379-8b11ee716580"
      },
      "outputs": [
        {
          "output_type": "execute_result",
          "data": {
            "text/plain": [
              "False"
            ]
          },
          "metadata": {},
          "execution_count": 180
        }
      ],
      "source": [
        "a = np.random.randint(0,2,6)\n",
        "b = np.random.randint(0,2,6)\n",
        "np.allclose(a,b)"
      ]
    },
    {
      "cell_type": "code",
      "source": [
        "np.array_equal(a,b)"
      ],
      "metadata": {
        "colab": {
          "base_uri": "https://localhost:8080/"
        },
        "id": "NMMfsxF0afV_",
        "outputId": "b2533b94-fc6e-4129-814a-6ea5fa664b60"
      },
      "execution_count": null,
      "outputs": [
        {
          "output_type": "execute_result",
          "data": {
            "text/plain": [
              "False"
            ]
          },
          "metadata": {},
          "execution_count": 181
        }
      ]
    },
    {
      "cell_type": "markdown",
      "metadata": {
        "id": "pgF2U4RhNLbt"
      },
      "source": [
        "#### 43. Make an array immutable (read-only) (★★☆) \n",
        "(**hint**: flags.writeable)"
      ]
    },
    {
      "cell_type": "code",
      "execution_count": null,
      "metadata": {
        "id": "BwDp37YINLbt",
        "colab": {
          "base_uri": "https://localhost:8080/"
        },
        "outputId": "cd7055dc-9c7e-4426-8e32-f43c57d6b32c"
      },
      "outputs": [
        {
          "output_type": "execute_result",
          "data": {
            "text/plain": [
              "array([0, 0, 0, 0, 0, 0, 0, 0, 0, 0])"
            ]
          },
          "metadata": {},
          "execution_count": 185
        }
      ],
      "source": [
        "z = np.zeros(10,dtype = int)\n",
        "z.flags.writeable = False\n",
        "z"
      ]
    },
    {
      "cell_type": "markdown",
      "metadata": {
        "id": "4qSHFFinNLbt"
      },
      "source": [
        "#### 44. Consider a random 10x2 matrix representing cartesian coordinates, convert them to polar coordinates (★★☆) \n",
        "(**hint**: np.sqrt, np.arctan2)"
      ]
    },
    {
      "cell_type": "code",
      "execution_count": null,
      "metadata": {
        "id": "GcjICn5-NLbt",
        "colab": {
          "base_uri": "https://localhost:8080/"
        },
        "outputId": "774a2519-24b7-476d-f3a4-72ad36fba7ff"
      },
      "outputs": [
        {
          "output_type": "stream",
          "name": "stdout",
          "text": [
            "[0.57597142 0.91812518 0.91414835 0.77665484 0.79080804 1.15479144\n",
            " 0.26631179 0.48751282 0.27293468 0.60619911]\n",
            "[1.32543935 1.3465015  1.18079624 0.75118545 1.43008173 0.59476912\n",
            " 0.88508653 0.25196818 1.10151831 1.31930287]\n"
          ]
        }
      ],
      "source": [
        "z = np.random.random((10,2))\n",
        "x,y = z[:,0], z[:,1]\n",
        "s = np.sqrt(x**2 + y**2)\n",
        "t = np.arctan2(y,x)\n",
        "print(s)\n",
        "print(t)"
      ]
    },
    {
      "cell_type": "markdown",
      "metadata": {
        "id": "drsQiTgjNLbt"
      },
      "source": [
        "#### 45. Create random vector of size 10 and replace the maximum value by 0 (★★☆) \n",
        "(**hint**: argmax)"
      ]
    },
    {
      "cell_type": "code",
      "execution_count": null,
      "metadata": {
        "id": "gDtqKfmGNLbt",
        "colab": {
          "base_uri": "https://localhost:8080/"
        },
        "outputId": "b0877838-a86e-4ce4-b7a5-b55b666a810a"
      },
      "outputs": [
        {
          "output_type": "execute_result",
          "data": {
            "text/plain": [
              "array([0.57182295, 0.        , 0.69446803, 0.69951491, 0.28690535,\n",
              "       0.5436154 , 0.51756271, 0.78732611, 0.08965341, 0.8432809 ])"
            ]
          },
          "metadata": {},
          "execution_count": 195
        }
      ],
      "source": [
        "z = np.random.random(10)\n",
        "z[z.argmax()] = 0\n",
        "z"
      ]
    },
    {
      "cell_type": "markdown",
      "metadata": {
        "id": "WcFejPv1NLbt"
      },
      "source": [
        "#### 46. Create a structured array with `x` and `y` coordinates covering the \\[0,1\\]x\\[0,1\\] area (★★☆) \n",
        "(**hint**: np.meshgrid)"
      ]
    },
    {
      "cell_type": "code",
      "execution_count": null,
      "metadata": {
        "id": "VzYnO5xWNLbu",
        "colab": {
          "base_uri": "https://localhost:8080/"
        },
        "outputId": "ece4c66b-5ef2-41e7-cc4c-3ec90d94d1de"
      },
      "outputs": [
        {
          "output_type": "execute_result",
          "data": {
            "text/plain": [
              "array([[(0. , 0. ), (0.5, 0.5), (1. , 1. )],\n",
              "       [(0. , 0. ), (0.5, 0.5), (1. , 1. )],\n",
              "       [(0. , 0. ), (0.5, 0.5), (1. , 1. )]],\n",
              "      dtype=[('x', '<f8'), ('y', '<f8')])"
            ]
          },
          "metadata": {},
          "execution_count": 199
        }
      ],
      "source": [
        "z = np.zeros((3,3), [('x',float),('y',float)])\n",
        "z['x']  = np.meshgrid(np.linspace(0,1,3))\n",
        "z['y'] = np.meshgrid(np.linspace(0,1,3))\n",
        "z"
      ]
    },
    {
      "cell_type": "markdown",
      "metadata": {
        "id": "SLggtmU0NLbu"
      },
      "source": [
        "####  47. Given two arrays, X and Y, construct the Cauchy matrix C (Cij =1/(xi - yj)) \n",
        "(**hint**: np.subtract.outer)"
      ]
    },
    {
      "cell_type": "code",
      "execution_count": null,
      "metadata": {
        "id": "X-wKoiRDNLbu",
        "colab": {
          "base_uri": "https://localhost:8080/"
        },
        "outputId": "95544141-557c-4854-b2bd-236c23709dd8"
      },
      "outputs": [
        {
          "output_type": "execute_result",
          "data": {
            "text/plain": [
              "array([[ -8.78393428, -75.50917704,  -4.53860166, 176.71087438],\n",
              "       [ -2.3678914 ,  -3.10833269,  -1.89105753,  -3.30236267],\n",
              "       [ -2.70602631,  -3.71823543,  -2.10069234,  -3.99932183],\n",
              "       [ -6.54827527, -19.18973727,  -3.85802551, -30.11249759],\n",
              "       [ -5.02284806, -10.15337125,  -3.27248462, -12.56485504]])"
            ]
          },
          "metadata": {},
          "execution_count": 203
        }
      ],
      "source": [
        "x = np.random.random(5)\n",
        "y = np.random.random(4)\n",
        "\n",
        "c = 1.0/ np.subtract.outer(x,y)\n",
        "c"
      ]
    },
    {
      "cell_type": "markdown",
      "metadata": {
        "id": "OyYQUrtzNLbu"
      },
      "source": [
        "#### 48. Print the minimum and maximum representable value for each numpy scalar type (★★☆) \n",
        "(**hint**: np.iinfo, np.finfo, eps)"
      ]
    },
    {
      "cell_type": "code",
      "execution_count": null,
      "metadata": {
        "id": "XY-7MU7tNLbu",
        "colab": {
          "base_uri": "https://localhost:8080/"
        },
        "outputId": "334987de-75b6-4781-ebfc-10975dd0356e"
      },
      "outputs": [
        {
          "output_type": "stream",
          "name": "stdout",
          "text": [
            "-128\n",
            "127\n",
            "-2147483648\n",
            "2147483647\n",
            "-9223372036854775808\n",
            "9223372036854775807\n"
          ]
        }
      ],
      "source": [
        "for dtype in [np.int8, np.int32, np.int64]:\n",
        "   print(np.iinfo(dtype).min)\n",
        "   print(np.iinfo(dtype).max)"
      ]
    },
    {
      "cell_type": "code",
      "source": [
        "for dtype in [np.float32, np.float64]:\n",
        "   print(np.finfo(dtype).min)\n",
        "   print(np.finfo(dtype).max)\n",
        "   print(np.finfo(dtype).eps)"
      ],
      "metadata": {
        "colab": {
          "base_uri": "https://localhost:8080/"
        },
        "id": "p3rr_ljLhRti",
        "outputId": "f4d66233-1390-461d-ee5a-a279003ad77a"
      },
      "execution_count": null,
      "outputs": [
        {
          "output_type": "stream",
          "name": "stdout",
          "text": [
            "-3.4028235e+38\n",
            "3.4028235e+38\n",
            "1.1920929e-07\n",
            "-1.7976931348623157e+308\n",
            "1.7976931348623157e+308\n",
            "2.220446049250313e-16\n"
          ]
        }
      ]
    },
    {
      "cell_type": "markdown",
      "metadata": {
        "id": "uUCwTZr6NLbu"
      },
      "source": [
        "#### 49. How to print all the values of an array? (★★☆) \n",
        "(**hint**: np.set\\_printoptions)"
      ]
    },
    {
      "cell_type": "code",
      "execution_count": null,
      "metadata": {
        "id": "Bi-GDAmPNLbu",
        "colab": {
          "base_uri": "https://localhost:8080/"
        },
        "outputId": "e2197832-3e92-4c29-ec15-1c6c16e0a57c"
      },
      "outputs": [
        {
          "output_type": "execute_result",
          "data": {
            "text/plain": [
              "array([[0., 0., 0., 0.],\n",
              "       [0., 0., 0., 0.],\n",
              "       [0., 0., 0., 0.],\n",
              "       [0., 0., 0., 0.]])"
            ]
          },
          "metadata": {},
          "execution_count": 207
        }
      ],
      "source": [
        "np.set_printoptions()\n",
        "x = np.zeros((4, 4))\n",
        "x\n"
      ]
    },
    {
      "cell_type": "markdown",
      "metadata": {
        "id": "ALkC73CiNLbu"
      },
      "source": [
        "#### 50. How to find the closest value (to a given scalar) in a vector? (★★☆) \n",
        "(**hint**: argmin)"
      ]
    },
    {
      "cell_type": "code",
      "execution_count": null,
      "metadata": {
        "id": "-vjDgQB0NLbu",
        "colab": {
          "base_uri": "https://localhost:8080/"
        },
        "outputId": "dfa66228-de1c-4405-ade7-adcdebd68673"
      },
      "outputs": [
        {
          "output_type": "execute_result",
          "data": {
            "text/plain": [
              "29"
            ]
          },
          "metadata": {},
          "execution_count": 209
        }
      ],
      "source": [
        "x = np.arange(100)\n",
        "a = np.random.uniform(0,100)\n",
        "i = (np.abs(x-a)).argmin()\n",
        "x[i]"
      ]
    },
    {
      "cell_type": "markdown",
      "metadata": {
        "id": "0J78uJ8NNLbu"
      },
      "source": [
        "#### 51. Create a structured array representing a position (x,y) and a color (r,g,b) (★★☆) \n",
        "(**hint**: dtype)"
      ]
    },
    {
      "cell_type": "code",
      "execution_count": null,
      "metadata": {
        "id": "62eUR5ggNLbu",
        "colab": {
          "base_uri": "https://localhost:8080/"
        },
        "outputId": "28694be7-0f0d-484f-8df5-7f045bd05a11"
      },
      "outputs": [
        {
          "output_type": "execute_result",
          "data": {
            "text/plain": [
              "array([((0., 0.), (0., 0., 0.)), ((0., 0.), (0., 0., 0.)),\n",
              "       ((0., 0.), (0., 0., 0.)), ((0., 0.), (0., 0., 0.)),\n",
              "       ((0., 0.), (0., 0., 0.))],\n",
              "      dtype=[('position', [('x', '<f8'), ('y', '<f8')]), ('color', [('r', '<f8'), ('g', '<f8'), ('b', '<f8')])])"
            ]
          },
          "metadata": {},
          "execution_count": 218
        }
      ],
      "source": [
        "np.zeros(5, [ ('position', [ ('x', float ),('y', float)]),\n",
        "              ('color',    [ ('r', float),('g', float),('b', float)])])"
      ]
    },
    {
      "cell_type": "markdown",
      "metadata": {
        "id": "DwK8NdSMNLbu"
      },
      "source": [
        "#### 52. Consider a random vector with shape (100,2) representing coordinates, find point by point distances (★★☆) \n",
        "(**hint**: np.atleast\\_2d, T, np.sqrt)"
      ]
    },
    {
      "cell_type": "code",
      "execution_count": null,
      "metadata": {
        "id": "rjffI1bhNLbv",
        "colab": {
          "base_uri": "https://localhost:8080/"
        },
        "outputId": "f2d5e091-d7f0-4122-e2bb-1fea83564157"
      },
      "outputs": [
        {
          "output_type": "execute_result",
          "data": {
            "text/plain": [
              "array([[0.        , 0.67910455, 0.44094837, ..., 0.44676701, 0.24350392,\n",
              "        0.48341988],\n",
              "       [0.67910455, 0.        , 0.64902904, ..., 0.71312149, 0.69429796,\n",
              "        0.60516514],\n",
              "       [0.44094837, 0.64902904, 0.        , ..., 0.06610651, 0.21837075,\n",
              "        0.82719697],\n",
              "       ...,\n",
              "       [0.44676701, 0.71312149, 0.06610651, ..., 0.        , 0.20822811,\n",
              "        0.86083312],\n",
              "       [0.24350392, 0.69429796, 0.21837075, ..., 0.20822811, 0.        ,\n",
              "        0.69406723],\n",
              "       [0.48341988, 0.60516514, 0.82719697, ..., 0.86083312, 0.69406723,\n",
              "        0.        ]])"
            ]
          },
          "metadata": {},
          "execution_count": 3
        }
      ],
      "source": [
        "a = np.random.random((100,2))\n",
        "x,y = np.atleast_2d(a[:,0],a[:,1])\n",
        "v = np.sqrt((x-x.T)**2 + (y-y.T)**2)\n",
        "v\n"
      ]
    },
    {
      "cell_type": "markdown",
      "metadata": {
        "id": "AAr4SalINLbv"
      },
      "source": [
        "#### 53. How to convert a float (32 bits) array into an integer (32 bits) in place? \n",
        "(**hint**: astype(copy=False))"
      ]
    },
    {
      "cell_type": "code",
      "execution_count": 13,
      "metadata": {
        "id": "4BlwXKvnNLbv",
        "colab": {
          "base_uri": "https://localhost:8080/"
        },
        "outputId": "f037c26c-2a57-4d2c-fc6e-2bdb9949d5f8"
      },
      "outputs": [
        {
          "output_type": "execute_result",
          "data": {
            "text/plain": [
              "array([25, 89, 62, 46, 77, 77, 79, 70, 46, 50], dtype=int32)"
            ]
          },
          "metadata": {},
          "execution_count": 13
        }
      ],
      "source": [
        "a = (np.random.rand(10)*100).astype(np.float32)\n",
        "b = a.view(np.int32)\n",
        "b[:] = a\n",
        "b"
      ]
    },
    {
      "cell_type": "markdown",
      "metadata": {
        "id": "9AjWZnOKNLbv"
      },
      "source": [
        "#### 54. How to read the following file? (★★☆) \n",
        "(**hint**: np.genfromtxt)"
      ]
    },
    {
      "cell_type": "markdown",
      "metadata": {
        "id": "XZxr0dAMNLbv"
      },
      "source": [
        "```\n",
        "1, 2, 3, 4, 5\n",
        "6,  ,  , 7, 8\n",
        " ,  , 9,10,11\n",
        "```"
      ]
    },
    {
      "cell_type": "code",
      "execution_count": null,
      "metadata": {
        "id": "eF9qNUh3NLbv",
        "colab": {
          "base_uri": "https://localhost:8080/"
        },
        "outputId": "a93a2b96-53bf-43bd-ed10-1464680f1d48"
      },
      "outputs": [
        {
          "output_type": "execute_result",
          "data": {
            "text/plain": [
              "array([[ 1,  2,  3,  4,  5],\n",
              "       [ 6, -1, -1,  7,  8],\n",
              "       [-1, -1,  9, 10, 11]])"
            ]
          },
          "metadata": {},
          "execution_count": 4
        }
      ],
      "source": [
        "from io import StringIO\n",
        "s = StringIO('''1, 2, 3, 4, 5\n",
        "                6,  ,  , 7, 8\n",
        "             ,  , 9,10,11''')\n",
        "z = np.genfromtxt(s, dtype= int, delimiter=\",\")\n",
        "z"
      ]
    },
    {
      "cell_type": "markdown",
      "metadata": {
        "id": "K6nBk-OHNLbv"
      },
      "source": [
        "#### 55. What is the equivalent of enumerate for numpy arrays? (★★☆) \n",
        "(**hint**: np.ndenumerate, np.ndindex)"
      ]
    },
    {
      "cell_type": "code",
      "execution_count": null,
      "metadata": {
        "id": "9UK80CvrNLbv",
        "colab": {
          "base_uri": "https://localhost:8080/"
        },
        "outputId": "d6c9d011-fcfe-4ec9-fd88-eda43674a89b"
      },
      "outputs": [
        {
          "output_type": "stream",
          "name": "stdout",
          "text": [
            "(0, 0) 0\n",
            "(0, 1) 1\n",
            "(1, 0) 2\n",
            "(1, 1) 3\n",
            "(2, 0) 4\n",
            "(2, 1) 5\n"
          ]
        }
      ],
      "source": [
        "a = np.arange(6).reshape(3,2)\n",
        "for index, x in np.ndenumerate(a):\n",
        "    print(index, x)"
      ]
    },
    {
      "cell_type": "code",
      "source": [
        "for index in np.ndindex(a.shape):\n",
        "    print(index,z[index])"
      ],
      "metadata": {
        "colab": {
          "base_uri": "https://localhost:8080/"
        },
        "id": "ici7kDecs1hr",
        "outputId": "a4cc0d77-ea9a-4de9-a9cc-862f5f30931b"
      },
      "execution_count": null,
      "outputs": [
        {
          "output_type": "stream",
          "name": "stdout",
          "text": [
            "(0, 0) 1\n",
            "(0, 1) 2\n",
            "(1, 0) 6\n",
            "(1, 1) -1\n",
            "(2, 0) -1\n",
            "(2, 1) -1\n"
          ]
        }
      ]
    },
    {
      "cell_type": "markdown",
      "metadata": {
        "id": "NJoEeOtdNLbv"
      },
      "source": [
        "#### 56. Generate a generic 2D Gaussian-like array (★★☆) \n",
        "(**hint**: np.meshgrid, np.exp)"
      ]
    },
    {
      "cell_type": "code",
      "execution_count": null,
      "metadata": {
        "id": "wqw1AFD1NLbv",
        "colab": {
          "base_uri": "https://localhost:8080/"
        },
        "outputId": "2d9b5494-d4c0-4616-e9ea-0378c93905fd"
      },
      "outputs": [
        {
          "output_type": "execute_result",
          "data": {
            "text/plain": [
              "array([[0.36787944, 0.44822088, 0.51979489, 0.57375342, 0.60279818,\n",
              "        0.60279818, 0.57375342, 0.51979489, 0.44822088, 0.36787944],\n",
              "       [0.44822088, 0.54610814, 0.63331324, 0.69905581, 0.73444367,\n",
              "        0.73444367, 0.69905581, 0.63331324, 0.54610814, 0.44822088],\n",
              "       [0.51979489, 0.63331324, 0.73444367, 0.81068432, 0.85172308,\n",
              "        0.85172308, 0.81068432, 0.73444367, 0.63331324, 0.51979489],\n",
              "       [0.57375342, 0.69905581, 0.81068432, 0.89483932, 0.9401382 ,\n",
              "        0.9401382 , 0.89483932, 0.81068432, 0.69905581, 0.57375342],\n",
              "       [0.60279818, 0.73444367, 0.85172308, 0.9401382 , 0.98773022,\n",
              "        0.98773022, 0.9401382 , 0.85172308, 0.73444367, 0.60279818],\n",
              "       [0.60279818, 0.73444367, 0.85172308, 0.9401382 , 0.98773022,\n",
              "        0.98773022, 0.9401382 , 0.85172308, 0.73444367, 0.60279818],\n",
              "       [0.57375342, 0.69905581, 0.81068432, 0.89483932, 0.9401382 ,\n",
              "        0.9401382 , 0.89483932, 0.81068432, 0.69905581, 0.57375342],\n",
              "       [0.51979489, 0.63331324, 0.73444367, 0.81068432, 0.85172308,\n",
              "        0.85172308, 0.81068432, 0.73444367, 0.63331324, 0.51979489],\n",
              "       [0.44822088, 0.54610814, 0.63331324, 0.69905581, 0.73444367,\n",
              "        0.73444367, 0.69905581, 0.63331324, 0.54610814, 0.44822088],\n",
              "       [0.36787944, 0.44822088, 0.51979489, 0.57375342, 0.60279818,\n",
              "        0.60279818, 0.57375342, 0.51979489, 0.44822088, 0.36787944]])"
            ]
          },
          "metadata": {},
          "execution_count": 21
        }
      ],
      "source": [
        "x, y = np.meshgrid(np.linspace(-1,1,10), np.linspace(-1,1,10))\n",
        "d = np.sqrt(x*x+y*y)\n",
        "sigma, mu = 1.0, 0.0\n",
        "g = np.exp(-((d-mu)**2 / ( 2.0 * sigma**2 )))\n",
        "g"
      ]
    },
    {
      "cell_type": "markdown",
      "metadata": {
        "id": "MZX_Q4VONLbv"
      },
      "source": [
        "#### 57. How to randomly place p elements in a 2D array? (★★☆) \n",
        "(**hint**: np.put, np.random.choice)"
      ]
    },
    {
      "cell_type": "code",
      "execution_count": null,
      "metadata": {
        "id": "TnJ1vMHyNLbw",
        "colab": {
          "base_uri": "https://localhost:8080/"
        },
        "outputId": "930afd7a-a95d-412d-f0a1-a7748317039b"
      },
      "outputs": [
        {
          "output_type": "stream",
          "name": "stdout",
          "text": [
            "[[0. 0. 0. 0. 0. 0. 0. 0. 0. 0.]\n",
            " [0. 0. 1. 0. 0. 0. 0. 0. 0. 0.]\n",
            " [0. 0. 0. 0. 0. 0. 0. 0. 0. 0.]\n",
            " [0. 0. 0. 0. 0. 0. 0. 0. 0. 1.]\n",
            " [0. 0. 0. 0. 0. 0. 0. 0. 0. 0.]\n",
            " [0. 0. 0. 0. 1. 0. 1. 0. 0. 0.]\n",
            " [0. 0. 0. 0. 0. 0. 0. 0. 0. 0.]\n",
            " [0. 0. 0. 0. 0. 0. 0. 0. 0. 0.]\n",
            " [0. 0. 0. 0. 0. 0. 0. 0. 0. 0.]\n",
            " [0. 0. 0. 0. 0. 0. 0. 0. 0. 0.]]\n"
          ]
        }
      ],
      "source": [
        "p=4\n",
        "o = np.zeros((10,10))\n",
        "np.put(o,np.random.choice(range(10*10), p, replace=False),1)\n",
        "print(o)"
      ]
    },
    {
      "cell_type": "markdown",
      "metadata": {
        "id": "pHiEr5dRNLbw"
      },
      "source": [
        "#### 58. Subtract the mean of each row of a matrix (★★☆) \n",
        "(**hint**: mean(axis=,keepdims=))"
      ]
    },
    {
      "cell_type": "code",
      "execution_count": null,
      "metadata": {
        "id": "_DrxGZmeNLbw",
        "colab": {
          "base_uri": "https://localhost:8080/"
        },
        "outputId": "9e4b070d-b3fb-4c19-8f21-d5c796e69dab"
      },
      "outputs": [
        {
          "output_type": "execute_result",
          "data": {
            "text/plain": [
              "array([[ 0.07908733,  0.10335352, -0.07096487, -0.05830472, -0.30408192,\n",
              "        -0.5853405 ,  0.32515922,  0.11776246,  0.11588088,  0.27744861],\n",
              "       [-0.05581378, -0.2750644 ,  0.3170366 ,  0.39258067,  0.29207879,\n",
              "        -0.43243513,  0.2428928 , -0.46486813,  0.16360558, -0.180013  ],\n",
              "       [ 0.06174499, -0.06702882,  0.29823099, -0.28025163,  0.34771249,\n",
              "        -0.0862317 ,  0.35223952, -0.21408961, -0.45989557,  0.04756935],\n",
              "       [ 0.46042085,  0.53924723,  0.28943356, -0.30606563, -0.24405165,\n",
              "        -0.26564531,  0.27369462, -0.37526197, -0.21139681, -0.1603749 ],\n",
              "       [-0.00934768, -0.28932602,  0.14663531,  0.25700182, -0.09274599,\n",
              "         0.0487339 ,  0.32937528,  0.27050475, -0.01367254, -0.64715882]])"
            ]
          },
          "metadata": {},
          "execution_count": 29
        }
      ],
      "source": [
        "x = np.random.rand(5, 10)\n",
        "z = x - x.mean(axis=1, keepdims=True)\n",
        "z"
      ]
    },
    {
      "cell_type": "markdown",
      "metadata": {
        "id": "kodC1SydNLbw"
      },
      "source": [
        "#### 59. How to sort an array by the nth column? (★★☆) \n",
        "(**hint**: argsort)"
      ]
    },
    {
      "cell_type": "code",
      "execution_count": null,
      "metadata": {
        "id": "6PJpLDBkNLbw",
        "colab": {
          "base_uri": "https://localhost:8080/"
        },
        "outputId": "1eabd737-0584-42e6-912d-d369d818b7ab"
      },
      "outputs": [
        {
          "output_type": "execute_result",
          "data": {
            "text/plain": [
              "array([[4, 2, 6],\n",
              "       [7, 7, 5],\n",
              "       [3, 9, 2]])"
            ]
          },
          "metadata": {},
          "execution_count": 30
        }
      ],
      "source": [
        "n = np.random.randint(0,10,(3,3))\n",
        "n[n[:,1].argsort()]"
      ]
    },
    {
      "cell_type": "markdown",
      "metadata": {
        "id": "2eDqIziMNLbw"
      },
      "source": [
        "#### 60. How to tell if a given 2D array has null columns? (★★☆) \n",
        "(**hint**: any, ~)"
      ]
    },
    {
      "cell_type": "code",
      "execution_count": null,
      "metadata": {
        "id": "N0Vevm9oNLbw",
        "colab": {
          "base_uri": "https://localhost:8080/"
        },
        "outputId": "27472252-bc27-4b05-8dee-37f754838f84"
      },
      "outputs": [
        {
          "output_type": "execute_result",
          "data": {
            "text/plain": [
              "False"
            ]
          },
          "metadata": {},
          "execution_count": 33
        }
      ],
      "source": [
        "n = np.random.randint(0,3,(4,10))\n",
        "(~n.any(axis=0)).any()\n"
      ]
    },
    {
      "cell_type": "markdown",
      "metadata": {
        "id": "79KNoBl3NLbx"
      },
      "source": [
        "#### 61. Find the nearest value from a given value in an array (★★☆) \n",
        "(**hint**: np.abs, argmin, flat)"
      ]
    },
    {
      "cell_type": "code",
      "execution_count": null,
      "metadata": {
        "id": "AEK4XfjMNLbx",
        "colab": {
          "base_uri": "https://localhost:8080/"
        },
        "outputId": "cd0b2f5c-1326-41b9-fad4-acce9a417827"
      },
      "outputs": [
        {
          "output_type": "execute_result",
          "data": {
            "text/plain": [
              "4.284516266153078"
            ]
          },
          "metadata": {},
          "execution_count": 36
        }
      ],
      "source": [
        "x = np.random.uniform(1, 12, 5)\n",
        "v = 4\n",
        "n = x.flat[np.abs(x - v).argmin()]\n",
        "n"
      ]
    },
    {
      "cell_type": "markdown",
      "metadata": {
        "id": "P3NXxAtRNLby"
      },
      "source": [
        "#### 62. Considering two arrays with shape (1,3) and (3,1), how to compute their sum using an iterator? (★★☆) \n",
        "(**hint**: np.nditer)"
      ]
    },
    {
      "cell_type": "code",
      "source": [
        "A = np.arange(3).reshape(3,1)\n",
        "B = np.arange(3).reshape(1,3)\n",
        "s = np.nditer([A,B,None])\n",
        "for x,y,z in s: z[...] = x + y\n",
        "print(s.operands[2])"
      ],
      "metadata": {
        "colab": {
          "base_uri": "https://localhost:8080/"
        },
        "id": "dunbCqDX27IN",
        "outputId": "2f6e6609-27a4-4d0f-9a56-f6b3e420edcc"
      },
      "execution_count": null,
      "outputs": [
        {
          "output_type": "stream",
          "name": "stdout",
          "text": [
            "[[0 1 2]\n",
            " [1 2 3]\n",
            " [2 3 4]]\n"
          ]
        }
      ]
    },
    {
      "cell_type": "markdown",
      "metadata": {
        "id": "3IDz85RXNLb0"
      },
      "source": [
        "#### 63. Create an array class that has a name attribute (★★☆) \n",
        "(**hint**: class method)"
      ]
    },
    {
      "cell_type": "code",
      "execution_count": 14,
      "metadata": {
        "id": "WMm-zax-NLb1",
        "colab": {
          "base_uri": "https://localhost:8080/",
          "height": 35
        },
        "outputId": "19c7b861-d4dc-4ac1-fc3c-531f6c94ea7f"
      },
      "outputs": [
        {
          "output_type": "execute_result",
          "data": {
            "text/plain": [
              "'range_10'"
            ],
            "application/vnd.google.colaboratory.intrinsic+json": {
              "type": "string"
            }
          },
          "metadata": {},
          "execution_count": 14
        }
      ],
      "source": [
        "class Array(np.ndarray):\n",
        "    def __new__(cls, array, name = 'name1'):\n",
        "        a = np.asarray(array).view(cls)\n",
        "        a.name = name\n",
        "        return a\n",
        "\n",
        "    def __array_finalize__(self, obj):\n",
        "        if obj is None: return\n",
        "        self.name = getattr(a, 'name', \"name1\")\n",
        "\n",
        "x = Array(np.arange(10), \"range_10\")\n",
        "x.name       "
      ]
    },
    {
      "cell_type": "markdown",
      "metadata": {
        "id": "gdT9po2UNLb1"
      },
      "source": [
        "#### 64. Consider a given vector, how to add 1 to each element indexed by a second vector (be careful with repeated indices)? (★★★) \n",
        "(**hint**: np.bincount | np.add.at)"
      ]
    },
    {
      "cell_type": "code",
      "execution_count": null,
      "metadata": {
        "id": "eA5tSBdoNLb1",
        "colab": {
          "base_uri": "https://localhost:8080/"
        },
        "outputId": "a11f2ee7-430c-49be-e054-b682ec6e9483"
      },
      "outputs": [
        {
          "output_type": "execute_result",
          "data": {
            "text/plain": [
              "array([4., 2., 3., 4., 1., 3., 3., 5., 2., 3.])"
            ]
          },
          "metadata": {},
          "execution_count": 59
        }
      ],
      "source": [
        "z = np.ones(10)\n",
        "a = np.random.randint(0,len(z),20)\n",
        "z += np.bincount(a, minlength=len(z))\n",
        "z"
      ]
    },
    {
      "cell_type": "markdown",
      "metadata": {
        "id": "JKmFX_czNLb1"
      },
      "source": [
        "#### 65. How to accumulate elements of a vector (X) to an array (F) based on an index list (I)? (★★★) \n",
        "(**hint**: np.bincount)"
      ]
    },
    {
      "cell_type": "code",
      "execution_count": null,
      "metadata": {
        "id": "hIcV745dNLb1",
        "colab": {
          "base_uri": "https://localhost:8080/"
        },
        "outputId": "416a6059-8f67-497f-9f9f-04cccd420c32"
      },
      "outputs": [
        {
          "output_type": "execute_result",
          "data": {
            "text/plain": [
              "array([0., 2., 7., 0., 3., 4., 5.])"
            ]
          },
          "metadata": {},
          "execution_count": 62
        }
      ],
      "source": [
        "x = [2,1,4,5,6,2]\n",
        "f = [1,2,3,4,5,6]\n",
        "y = np.bincount(x,f)\n",
        "y"
      ]
    },
    {
      "cell_type": "markdown",
      "metadata": {
        "id": "E7Ggm9pKNLb1"
      },
      "source": [
        "#### 66. Considering a (w,h,3) image of (dtype=ubyte), compute the number of unique colors (★★★) \n",
        "(**hint**: np.unique)"
      ]
    },
    {
      "cell_type": "code",
      "execution_count": 18,
      "metadata": {
        "id": "nsjuWym3NLb1",
        "colab": {
          "base_uri": "https://localhost:8080/"
        },
        "outputId": "189dc9e6-84f0-4669-9516-c9732b3a4111"
      },
      "outputs": [
        {
          "output_type": "execute_result",
          "data": {
            "text/plain": [
              "64"
            ]
          },
          "metadata": {},
          "execution_count": 18
        }
      ],
      "source": [
        "w, h = 256, 256\n",
        "a = np.random.randint(0, 4, (h, w, 3)).astype(np.ubyte)\n",
        "colors = np.unique(a.reshape(-1, 3), axis=0)\n",
        "n = len(colors)\n",
        "n"
      ]
    },
    {
      "cell_type": "markdown",
      "metadata": {
        "id": "ZPIw3m4xNLb2"
      },
      "source": [
        "#### 67. Considering a four dimensions array, how to get sum over the last two axis at once? (★★★) \n",
        "(**hint**: sum(axis=(-2,-1)))"
      ]
    },
    {
      "cell_type": "code",
      "execution_count": null,
      "metadata": {
        "id": "AnmGr7erNLb2",
        "colab": {
          "base_uri": "https://localhost:8080/"
        },
        "outputId": "78e2c6f9-c440-4104-c20e-c72ab2c01d21"
      },
      "outputs": [
        {
          "output_type": "execute_result",
          "data": {
            "text/plain": [
              "array([[60, 32, 53, 56],\n",
              "       [49, 37, 51, 59],\n",
              "       [82, 54, 66, 54]])"
            ]
          },
          "metadata": {},
          "execution_count": 80
        }
      ],
      "source": [
        "a = np.random.randint(0,10,(3,4,3,4))\n",
        "y = a.sum(axis=(-2,-1))\n",
        "z = a.reshape(a.shape[:-2] + (-1,)).sum(axis=-1)\n",
        "z"
      ]
    },
    {
      "cell_type": "markdown",
      "metadata": {
        "id": "rjZRYIevNLb2"
      },
      "source": [
        "#### 68. Considering a one-dimensional vector D, how to compute means of subsets of D using a vector S of same size describing subset  indices? (★★★) \n",
        "(**hint**: np.bincount)"
      ]
    },
    {
      "cell_type": "code",
      "execution_count": null,
      "metadata": {
        "id": "q_X4JyYcNLb2",
        "colab": {
          "base_uri": "https://localhost:8080/"
        },
        "outputId": "057211af-2a55-492b-857f-a9f68ea77fcf"
      },
      "outputs": [
        {
          "output_type": "stream",
          "name": "stderr",
          "text": [
            "/usr/local/lib/python3.7/dist-packages/ipykernel_launcher.py:5: RuntimeWarning: invalid value encountered in true_divide\n",
            "  \"\"\"\n"
          ]
        },
        {
          "output_type": "execute_result",
          "data": {
            "text/plain": [
              "array([       nan, 0.97766047, 0.21759331, 0.89700567, 0.85808168,\n",
              "       0.89253188,        nan, 0.26253904, 0.4608335 ])"
            ]
          },
          "metadata": {},
          "execution_count": 84
        }
      ],
      "source": [
        "x = np.random.uniform(0,1,10)\n",
        "y = np.random.randint(0,10,10)\n",
        "sums = np.bincount(y, weights=x)\n",
        "counts = np.bincount(y)\n",
        "mean = sums / counts\n",
        "mean"
      ]
    },
    {
      "cell_type": "markdown",
      "metadata": {
        "id": "Tjo6xsD0NLb2"
      },
      "source": [
        "#### 69. How to get the diagonal of a dot product? (★★★) \n",
        "(**hint**: np.diag)"
      ]
    },
    {
      "cell_type": "code",
      "execution_count": null,
      "metadata": {
        "id": "9A5lujk7NLb2",
        "colab": {
          "base_uri": "https://localhost:8080/"
        },
        "outputId": "5d073c76-2be4-4c2e-ad29-c956397ce09f"
      },
      "outputs": [
        {
          "output_type": "execute_result",
          "data": {
            "text/plain": [
              "array([1.18953805, 0.62519644, 1.11404963])"
            ]
          },
          "metadata": {},
          "execution_count": 83
        }
      ],
      "source": [
        "x = np.random.uniform(0,1,(3,3))\n",
        "y = np.random.uniform(0,1,(3,3))\n",
        "np.diag(np.dot(x,y))"
      ]
    },
    {
      "cell_type": "markdown",
      "metadata": {
        "id": "U9Ee4RSUNLb3"
      },
      "source": [
        "#### 70. Consider the vector \\[1, 2, 3, 4, 5\\], how to build a new vector with 3 consecutive zeros interleaved between each value? (★★★) \n",
        "(**hint**: array\\[::4\\])"
      ]
    },
    {
      "cell_type": "code",
      "execution_count": null,
      "metadata": {
        "id": "VzWk5cLfNLb3",
        "colab": {
          "base_uri": "https://localhost:8080/"
        },
        "outputId": "8cb152ee-d58e-429a-8b78-0a942c9ddca6"
      },
      "outputs": [
        {
          "output_type": "stream",
          "name": "stdout",
          "text": [
            "[1. 0. 0. 2. 0. 0. 3. 0. 0. 4. 0. 0. 5.]\n"
          ]
        }
      ],
      "source": [
        "x = np.array([1,2,3,4,5])\n",
        "p = 2\n",
        "new_nums = np.zeros(len(x) + (len(x)-1)*(p))\n",
        "new_nums[::p+1] = x\n",
        "print(new_nums)"
      ]
    },
    {
      "cell_type": "markdown",
      "metadata": {
        "id": "BauF-u9kNLb3"
      },
      "source": [
        "#### 71. Consider an array of dimension (5,5,3), how to mulitply it by an array with dimensions (5,5)? (★★★) \n",
        "(**hint**: array\\[:, :, None\\])"
      ]
    },
    {
      "cell_type": "code",
      "execution_count": null,
      "metadata": {
        "collapsed": true,
        "id": "JxmyoHasNLb3",
        "colab": {
          "base_uri": "https://localhost:8080/"
        },
        "outputId": "22faf9b8-401d-4f0c-dbec-75236c4315bd"
      },
      "outputs": [
        {
          "output_type": "execute_result",
          "data": {
            "text/plain": [
              "array([[[3., 3., 3.],\n",
              "        [3., 3., 3.],\n",
              "        [3., 3., 3.],\n",
              "        [3., 3., 3.],\n",
              "        [3., 3., 3.]],\n",
              "\n",
              "       [[3., 3., 3.],\n",
              "        [3., 3., 3.],\n",
              "        [3., 3., 3.],\n",
              "        [3., 3., 3.],\n",
              "        [3., 3., 3.]],\n",
              "\n",
              "       [[3., 3., 3.],\n",
              "        [3., 3., 3.],\n",
              "        [3., 3., 3.],\n",
              "        [3., 3., 3.],\n",
              "        [3., 3., 3.]],\n",
              "\n",
              "       [[3., 3., 3.],\n",
              "        [3., 3., 3.],\n",
              "        [3., 3., 3.],\n",
              "        [3., 3., 3.],\n",
              "        [3., 3., 3.]],\n",
              "\n",
              "       [[3., 3., 3.],\n",
              "        [3., 3., 3.],\n",
              "        [3., 3., 3.],\n",
              "        [3., 3., 3.],\n",
              "        [3., 3., 3.]]])"
            ]
          },
          "metadata": {},
          "execution_count": 98
        }
      ],
      "source": [
        "x = np.ones((5,5,3))\n",
        "y = 3*np.ones((5,5))\n",
        "z = x*y[:,:,None]\n",
        "z"
      ]
    },
    {
      "cell_type": "markdown",
      "metadata": {
        "id": "wDClDFtkNLb3"
      },
      "source": [
        "#### 72. How to swap two rows of an array? (★★★) \n",
        "(**hint**: array\\[\\[\\]\\] = array\\[\\[\\]\\])"
      ]
    },
    {
      "cell_type": "code",
      "execution_count": null,
      "metadata": {
        "id": "Gj9WXJpyNLb3",
        "colab": {
          "base_uri": "https://localhost:8080/"
        },
        "outputId": "74746f8d-4fc5-421e-9c74-d6deb82891af"
      },
      "outputs": [
        {
          "output_type": "execute_result",
          "data": {
            "text/plain": [
              "array([[ 4,  5,  6,  7],\n",
              "       [ 0,  1,  2,  3],\n",
              "       [ 8,  9, 10, 11],\n",
              "       [12, 13, 14, 15],\n",
              "       [16, 17, 18, 19]])"
            ]
          },
          "metadata": {},
          "execution_count": 106
        }
      ],
      "source": [
        "n = np.arange(20).reshape(5,4)\n",
        "n[[0,1]] = n[[1,0]]\n",
        "n"
      ]
    },
    {
      "cell_type": "markdown",
      "metadata": {
        "id": "jdJ7gRGkNLb3"
      },
      "source": [
        "#### 73. Consider a set of 10 triplets describing 10 triangles (with shared vertices), find the set of unique line segments composing all the  triangles (★★★) \n",
        "(**hint**: repeat, np.roll, np.sort, view, np.unique)"
      ]
    },
    {
      "cell_type": "code",
      "execution_count": 19,
      "metadata": {
        "id": "r7Spc3OCNLb4",
        "colab": {
          "base_uri": "https://localhost:8080/"
        },
        "outputId": "9d116a3b-5fb0-4a46-de1a-dcd3eb7a2389"
      },
      "outputs": [
        {
          "output_type": "execute_result",
          "data": {
            "text/plain": [
              "array([( 1,  7), ( 1, 30), ( 2, 25), ( 2, 39), ( 5, 13), ( 5, 79),\n",
              "       ( 7, 30), ( 9, 30), ( 9, 90), (13, 79), (14, 30), (14, 48),\n",
              "       (14, 54), (14, 93), (16, 49), (16, 70), (22, 56), (22, 57),\n",
              "       (25, 39), (30, 90), (30, 93), (46, 78), (46, 90), (48, 54),\n",
              "       (49, 70), (54, 73), (54, 88), (56, 57), (73, 88), (78, 90)],\n",
              "      dtype=[('p0', '<i8'), ('p1', '<i8')])"
            ]
          },
          "metadata": {},
          "execution_count": 19
        }
      ],
      "source": [
        "a = np.random.randint(0,100,(10,3))\n",
        "x = np.roll(a.repeat(2,axis=1),-1,axis=1)\n",
        "x = x.reshape(len(x)*3,2)\n",
        "x = np.sort(x,axis=1)\n",
        "y = x.view( dtype=[('p0',x.dtype),('p1',x.dtype)] )\n",
        "y = np.unique(y)\n",
        "y"
      ]
    },
    {
      "cell_type": "markdown",
      "metadata": {
        "id": "81TH5eL2NLb4"
      },
      "source": [
        "#### 74. Given an array C that is a bincount, how to produce an array A such that np.bincount(A) == C? (★★★) \n",
        "(**hint**: np.repeat)"
      ]
    },
    {
      "cell_type": "code",
      "execution_count": null,
      "metadata": {
        "id": "pEvdYbHTNLb4",
        "colab": {
          "base_uri": "https://localhost:8080/"
        },
        "outputId": "cbfeaefb-0dd2-447a-ba19-7ca3d439cb9f"
      },
      "outputs": [
        {
          "output_type": "execute_result",
          "data": {
            "text/plain": [
              "array([0, 1, 1, 1, 1, 1, 1])"
            ]
          },
          "metadata": {},
          "execution_count": 109
        }
      ],
      "source": [
        "a = np.bincount([1,2,3,4,5,6])\n",
        "b = np.repeat(np.arange(len(a)), a)\n",
        "a"
      ]
    },
    {
      "cell_type": "markdown",
      "metadata": {
        "id": "66OWr3lZNLb4"
      },
      "source": [
        "#### 75. How to compute averages using a sliding window over an array? (★★★) \n",
        "(**hint**: np.cumsum)"
      ]
    },
    {
      "cell_type": "code",
      "execution_count": null,
      "metadata": {
        "id": "XkK8-jY8NLb5",
        "colab": {
          "base_uri": "https://localhost:8080/"
        },
        "outputId": "3f0f5e93-2395-4f12-b91c-156f54c077ac"
      },
      "outputs": [
        {
          "output_type": "execute_result",
          "data": {
            "text/plain": [
              "array([ 2.,  3.,  4.,  5.,  6.,  7.,  8.,  9., 10., 11., 12., 13., 14.,\n",
              "       15., 16., 17.])"
            ]
          },
          "metadata": {},
          "execution_count": 110
        }
      ],
      "source": [
        "def moving_average(a, n) :\n",
        "    test = np.cumsum(a, dtype=float)\n",
        "    test[n:] = test[n:] - test[:-n]\n",
        "    return test[n - 1:] / n\n",
        "moving_average(np.arange(20),5)"
      ]
    },
    {
      "cell_type": "markdown",
      "metadata": {
        "id": "plfAyCIANLb5"
      },
      "source": [
        "#### 76. Consider a one-dimensional array Z, build a two-dimensional array whose first row is (Z\\[0\\],Z\\[1\\],Z\\[2\\]) and each subsequent row is  shifted by 1 (last row should be (Z\\[-3\\],Z\\[-2\\],Z\\[-1\\]) (★★★) \n",
        "(**hint**: from numpy.lib import stride_tricks)"
      ]
    },
    {
      "cell_type": "code",
      "execution_count": 23,
      "metadata": {
        "id": "QcVGvxgJNLb5",
        "colab": {
          "base_uri": "https://localhost:8080/"
        },
        "outputId": "ec2a54f1-fbe5-4c14-8b3e-d9416e385e70"
      },
      "outputs": [
        {
          "output_type": "execute_result",
          "data": {
            "text/plain": [
              "array([[0, 1, 2],\n",
              "       [1, 2, 3],\n",
              "       [2, 3, 4],\n",
              "       [3, 4, 5],\n",
              "       [4, 5, 6],\n",
              "       [5, 6, 7],\n",
              "       [6, 7, 8],\n",
              "       [7, 8, 9]])"
            ]
          },
          "metadata": {},
          "execution_count": 23
        }
      ],
      "source": [
        "from numpy.lib import stride_tricks\n",
        "\n",
        "def rolling(a, window):\n",
        "    shape = (a.size - window + 1, window)\n",
        "    strides = (a.strides[0], a.strides[0])\n",
        "    return stride_tricks.as_strided(a, shape=shape, strides=strides)\n",
        "Z = rolling(np.arange(10), 3)\n",
        "Z"
      ]
    },
    {
      "cell_type": "markdown",
      "metadata": {
        "id": "8zSILARoNLb5"
      },
      "source": [
        "#### 77. How to negate a boolean, or to change the sign of a float inplace? (★★★) \n",
        "(**hint**: np.logical_not, np.negative)"
      ]
    },
    {
      "cell_type": "code",
      "execution_count": null,
      "metadata": {
        "id": "tbMNyRuSNLb5",
        "colab": {
          "base_uri": "https://localhost:8080/"
        },
        "outputId": "39559c58-9b0b-433f-c419-9701886a98ed"
      },
      "outputs": [
        {
          "output_type": "execute_result",
          "data": {
            "text/plain": [
              "array([0, 0, 0, 0, 1, 1, 1, 0, 1, 1])"
            ]
          },
          "metadata": {},
          "execution_count": 113
        }
      ],
      "source": [
        "a = np.random.randint(0,2,10)\n",
        "np.logical_not(a, out=a)"
      ]
    },
    {
      "cell_type": "code",
      "source": [
        "a = np.random.randint(0,2,10)\n",
        "np.negative(a, out=a)"
      ],
      "metadata": {
        "colab": {
          "base_uri": "https://localhost:8080/"
        },
        "id": "bPreeBGynOBo",
        "outputId": "c8663f32-2c0d-4dd7-a81b-736dea6c3f9d"
      },
      "execution_count": null,
      "outputs": [
        {
          "output_type": "execute_result",
          "data": {
            "text/plain": [
              "array([ 0, -1,  0, -1, -1, -1,  0, -1,  0, -1])"
            ]
          },
          "metadata": {},
          "execution_count": 118
        }
      ]
    },
    {
      "cell_type": "markdown",
      "metadata": {
        "id": "u4ceQvEANLb5"
      },
      "source": [
        "#### 78. Consider 2 sets of points P0,P1 describing lines (2d) and a point p, how to compute distance from p to each line i  (P0\\[i\\],P1\\[i\\])? (★★★)"
      ]
    },
    {
      "cell_type": "markdown",
      "metadata": {
        "id": "St91e98NNLb5"
      },
      "source": [
        "#### 79. Consider 2 sets of points P0,P1 describing lines (2d) and a set of points P, how to compute distance from each point j (P\\[j\\]) to each line i (P0\\[i\\],P1\\[i\\])? (★★★)"
      ]
    },
    {
      "cell_type": "code",
      "execution_count": 26,
      "metadata": {
        "id": "uUHfjzQlNLb5",
        "colab": {
          "base_uri": "https://localhost:8080/"
        },
        "outputId": "09dbde44-e9aa-4156-ded5-6d891823edec"
      },
      "outputs": [
        {
          "output_type": "execute_result",
          "data": {
            "text/plain": [
              "array([[3.57797684e+00, 9.50872275e+00, 5.84516132e+00, 3.04599359e+00,\n",
              "        1.28412939e+01, 1.66292865e+00, 6.80990129e+00, 6.16752837e+00,\n",
              "        9.00535691e+00, 9.30142551e+00],\n",
              "       [6.69637147e+00, 2.86628037e+00, 5.25848422e-01, 5.08151159e+00,\n",
              "        1.91558178e+00, 6.76307226e+00, 1.30455599e+00, 2.78066369e-01,\n",
              "        1.38408705e+00, 1.58544986e+00],\n",
              "       [5.19769348e+00, 1.38198923e+01, 8.03418669e-02, 2.11871159e+00,\n",
              "        1.35012863e+01, 3.30789745e+00, 1.02937683e+01, 2.87886001e-01,\n",
              "        1.27928056e+01, 1.00325184e+01],\n",
              "       [5.67047682e+00, 1.37677790e+01, 1.11548647e+00, 1.03816747e+00,\n",
              "        1.41204944e+01, 3.08585775e+00, 1.04255086e+01, 1.30513655e+00,\n",
              "        1.28600534e+01, 1.06414750e+01],\n",
              "       [2.50765039e+00, 1.78529119e+00, 9.92954617e+00, 5.71478694e+00,\n",
              "        7.60315423e+00, 9.52084683e+00, 5.55663969e-01, 1.05823071e+01,\n",
              "        1.48924451e+00, 3.99664499e+00],\n",
              "       [1.19257965e+01, 3.49872856e+00, 2.42022483e+00, 3.32495319e+00,\n",
              "        2.67405754e+00, 1.31684709e+01, 7.45026052e+00, 3.50480962e+00,\n",
              "        4.85923039e+00, 6.22592384e+00],\n",
              "       [3.49064002e+00, 3.11957358e+00, 5.23487911e+00, 1.04712130e+00,\n",
              "        5.91669412e+00, 7.49418013e+00, 1.52725117e-03, 5.91023083e+00,\n",
              "        2.32069537e+00, 2.36050374e+00],\n",
              "       [3.26257983e+00, 5.49028974e+00, 7.65479620e-01, 3.16313634e+00,\n",
              "        5.43555477e+00, 4.54276178e+00, 1.68028209e+00, 1.40363995e+00,\n",
              "        4.25130019e+00, 1.93110261e+00],\n",
              "       [3.58403911e+00, 2.33316428e+00, 6.68265909e+00, 2.40704133e+00,\n",
              "        6.05368952e+00, 8.46738117e+00, 5.65680351e-01, 7.37104289e+00,\n",
              "        1.67620471e+00, 2.48067518e+00],\n",
              "       [2.65189406e-01, 3.32830376e+00, 1.21666970e+01, 8.40125981e+00,\n",
              "        1.06330427e+01, 8.46312021e+00, 1.46564135e+00, 1.26924738e+01,\n",
              "        3.34828224e+00, 7.01014583e+00]])"
            ]
          },
          "metadata": {},
          "execution_count": 26
        }
      ],
      "source": [
        "P0 = np.random.uniform(-10, 10, (10,2))\n",
        "P1 = np.random.uniform(-10,10,(10,2))\n",
        "p = np.random.uniform(-10, 10, (10,2))\n",
        "np.array([distance(P0,P1,pi) for pi in p])"
      ]
    },
    {
      "cell_type": "markdown",
      "metadata": {
        "id": "3LSuvB2ENLb6"
      },
      "source": [
        "#### 80. Consider an arbitrary array, write a function that extract a subpart with a fixed shape and centered on a given element (pad with a `fill` value when necessary) (★★★) \n",
        "(**hint**: minimum, maximum)"
      ]
    },
    {
      "cell_type": "code",
      "execution_count": null,
      "metadata": {
        "id": "YUvLZ-YoNLb6"
      },
      "outputs": [],
      "source": []
    },
    {
      "cell_type": "markdown",
      "metadata": {
        "id": "LxX2fSBwNLb6"
      },
      "source": [
        "#### 81. Consider an array Z = \\[1,2,3,4,5,6,7,8,9,10,11,12,13,14\\], how to generate an array R = \\[\\[1,2,3,4\\], \\[2,3,4,5\\], \\[3,4,5,6\\], ..., \\[11,12,13,14\\]\\]? (★★★) \n",
        "(**hint**: stride\\_tricks.as\\_strided)"
      ]
    },
    {
      "cell_type": "code",
      "execution_count": null,
      "metadata": {
        "id": "hafCHaghNLb6",
        "colab": {
          "base_uri": "https://localhost:8080/"
        },
        "outputId": "5d86c07d-64e7-4fef-87c3-c60f6330257f"
      },
      "outputs": [
        {
          "output_type": "execute_result",
          "data": {
            "text/plain": [
              "array([[ 1,  2,  3,  4],\n",
              "       [ 2,  3,  4,  5],\n",
              "       [ 3,  4,  5,  6],\n",
              "       [ 4,  5,  6,  7],\n",
              "       [ 5,  6,  7,  8],\n",
              "       [ 6,  7,  8,  9],\n",
              "       [ 7,  8,  9, 10],\n",
              "       [ 8,  9, 10, 11],\n",
              "       [ 9, 10, 11, 12],\n",
              "       [10, 11, 12, 13],\n",
              "       [11, 12, 13, 14]], dtype=uint32)"
            ]
          },
          "metadata": {},
          "execution_count": 7
        }
      ],
      "source": [
        "from numpy.lib import stride_tricks\n",
        "a = np.arange(1,15,dtype=np.uint32)\n",
        "b = stride_tricks.as_strided(a,(11,4),(4,4))\n",
        "b"
      ]
    },
    {
      "cell_type": "markdown",
      "metadata": {
        "id": "0r5ipt6sNLb6"
      },
      "source": [
        "#### 82. Compute a matrix rank (★★★) \n",
        "(**hint**: np.linalg.svd) (suggestion: np.linalg.svd)"
      ]
    },
    {
      "cell_type": "code",
      "execution_count": 27,
      "metadata": {
        "id": "YqTIN1YwNLb6",
        "colab": {
          "base_uri": "https://localhost:8080/"
        },
        "outputId": "0edf7822-3d29-4eed-b101-5945929a74d5"
      },
      "outputs": [
        {
          "output_type": "execute_result",
          "data": {
            "text/plain": [
              "10"
            ]
          },
          "metadata": {},
          "execution_count": 27
        }
      ],
      "source": [
        "Z = np.random.uniform(0,1,(10,10))\n",
        "U, S, V = np.linalg.svd(Z) \n",
        "rank = np.sum(S > 1e-10)\n",
        "rank"
      ]
    },
    {
      "cell_type": "markdown",
      "metadata": {
        "id": "E8_1GDGgNLb6"
      },
      "source": [
        "#### 83. How to find the most frequent value in an array? \n",
        "(**hint**: np.bincount, argmax)"
      ]
    },
    {
      "cell_type": "code",
      "execution_count": null,
      "metadata": {
        "id": "jxPaCGJrNLb6",
        "colab": {
          "base_uri": "https://localhost:8080/"
        },
        "outputId": "7b04b1ed-fc16-4caf-e424-b451e49fe531"
      },
      "outputs": [
        {
          "output_type": "execute_result",
          "data": {
            "text/plain": [
              "1"
            ]
          },
          "metadata": {},
          "execution_count": 12
        }
      ],
      "source": [
        "x = np.random.randint(0, 10, 40)\n",
        "np.bincount(x).argmax()"
      ]
    },
    {
      "cell_type": "markdown",
      "metadata": {
        "id": "PlF8TXqaNLb6"
      },
      "source": [
        "#### 84. Extract all the contiguous 3x3 blocks from a random 10x10 matrix (★★★) \n",
        "(**hint**: stride\\_tricks.as\\_strided)"
      ]
    },
    {
      "cell_type": "code",
      "execution_count": null,
      "metadata": {
        "id": "NOg-UfPcNLb7",
        "colab": {
          "base_uri": "https://localhost:8080/"
        },
        "outputId": "58dc6d00-332b-42f1-c375-ab199ef9a650"
      },
      "outputs": [
        {
          "output_type": "execute_result",
          "data": {
            "text/plain": [
              "array([[[[3, 1, 0],\n",
              "         [0, 3, 2],\n",
              "         [4, 4, 4]],\n",
              "\n",
              "        [[1, 0, 3],\n",
              "         [3, 2, 1],\n",
              "         [4, 4, 4]],\n",
              "\n",
              "        [[0, 3, 4],\n",
              "         [2, 1, 2],\n",
              "         [4, 4, 0]],\n",
              "\n",
              "        [[3, 4, 3],\n",
              "         [1, 2, 0],\n",
              "         [4, 0, 4]],\n",
              "\n",
              "        [[4, 3, 1],\n",
              "         [2, 0, 1],\n",
              "         [0, 4, 2]],\n",
              "\n",
              "        [[3, 1, 3],\n",
              "         [0, 1, 3],\n",
              "         [4, 2, 2]],\n",
              "\n",
              "        [[1, 3, 2],\n",
              "         [1, 3, 4],\n",
              "         [2, 2, 2]],\n",
              "\n",
              "        [[3, 2, 3],\n",
              "         [3, 4, 1],\n",
              "         [2, 2, 3]]],\n",
              "\n",
              "\n",
              "       [[[0, 3, 2],\n",
              "         [4, 4, 4],\n",
              "         [4, 4, 3]],\n",
              "\n",
              "        [[3, 2, 1],\n",
              "         [4, 4, 4],\n",
              "         [4, 3, 2]],\n",
              "\n",
              "        [[2, 1, 2],\n",
              "         [4, 4, 0],\n",
              "         [3, 2, 0]],\n",
              "\n",
              "        [[1, 2, 0],\n",
              "         [4, 0, 4],\n",
              "         [2, 0, 0]],\n",
              "\n",
              "        [[2, 0, 1],\n",
              "         [0, 4, 2],\n",
              "         [0, 0, 0]],\n",
              "\n",
              "        [[0, 1, 3],\n",
              "         [4, 2, 2],\n",
              "         [0, 0, 0]],\n",
              "\n",
              "        [[1, 3, 4],\n",
              "         [2, 2, 2],\n",
              "         [0, 0, 2]],\n",
              "\n",
              "        [[3, 4, 1],\n",
              "         [2, 2, 3],\n",
              "         [0, 2, 2]]],\n",
              "\n",
              "\n",
              "       [[[4, 4, 4],\n",
              "         [4, 4, 3],\n",
              "         [1, 2, 1]],\n",
              "\n",
              "        [[4, 4, 4],\n",
              "         [4, 3, 2],\n",
              "         [2, 1, 2]],\n",
              "\n",
              "        [[4, 4, 0],\n",
              "         [3, 2, 0],\n",
              "         [1, 2, 0]],\n",
              "\n",
              "        [[4, 0, 4],\n",
              "         [2, 0, 0],\n",
              "         [2, 0, 1]],\n",
              "\n",
              "        [[0, 4, 2],\n",
              "         [0, 0, 0],\n",
              "         [0, 1, 2]],\n",
              "\n",
              "        [[4, 2, 2],\n",
              "         [0, 0, 0],\n",
              "         [1, 2, 2]],\n",
              "\n",
              "        [[2, 2, 2],\n",
              "         [0, 0, 2],\n",
              "         [2, 2, 2]],\n",
              "\n",
              "        [[2, 2, 3],\n",
              "         [0, 2, 2],\n",
              "         [2, 2, 2]]],\n",
              "\n",
              "\n",
              "       [[[4, 4, 3],\n",
              "         [1, 2, 1],\n",
              "         [2, 1, 2]],\n",
              "\n",
              "        [[4, 3, 2],\n",
              "         [2, 1, 2],\n",
              "         [1, 2, 4]],\n",
              "\n",
              "        [[3, 2, 0],\n",
              "         [1, 2, 0],\n",
              "         [2, 4, 3]],\n",
              "\n",
              "        [[2, 0, 0],\n",
              "         [2, 0, 1],\n",
              "         [4, 3, 1]],\n",
              "\n",
              "        [[0, 0, 0],\n",
              "         [0, 1, 2],\n",
              "         [3, 1, 2]],\n",
              "\n",
              "        [[0, 0, 0],\n",
              "         [1, 2, 2],\n",
              "         [1, 2, 2]],\n",
              "\n",
              "        [[0, 0, 2],\n",
              "         [2, 2, 2],\n",
              "         [2, 2, 3]],\n",
              "\n",
              "        [[0, 2, 2],\n",
              "         [2, 2, 2],\n",
              "         [2, 3, 3]]],\n",
              "\n",
              "\n",
              "       [[[1, 2, 1],\n",
              "         [2, 1, 2],\n",
              "         [2, 1, 4]],\n",
              "\n",
              "        [[2, 1, 2],\n",
              "         [1, 2, 4],\n",
              "         [1, 4, 2]],\n",
              "\n",
              "        [[1, 2, 0],\n",
              "         [2, 4, 3],\n",
              "         [4, 2, 3]],\n",
              "\n",
              "        [[2, 0, 1],\n",
              "         [4, 3, 1],\n",
              "         [2, 3, 4]],\n",
              "\n",
              "        [[0, 1, 2],\n",
              "         [3, 1, 2],\n",
              "         [3, 4, 4]],\n",
              "\n",
              "        [[1, 2, 2],\n",
              "         [1, 2, 2],\n",
              "         [4, 4, 1]],\n",
              "\n",
              "        [[2, 2, 2],\n",
              "         [2, 2, 3],\n",
              "         [4, 1, 3]],\n",
              "\n",
              "        [[2, 2, 2],\n",
              "         [2, 3, 3],\n",
              "         [1, 3, 0]]],\n",
              "\n",
              "\n",
              "       [[[2, 1, 2],\n",
              "         [2, 1, 4],\n",
              "         [3, 3, 4]],\n",
              "\n",
              "        [[1, 2, 4],\n",
              "         [1, 4, 2],\n",
              "         [3, 4, 0]],\n",
              "\n",
              "        [[2, 4, 3],\n",
              "         [4, 2, 3],\n",
              "         [4, 0, 2]],\n",
              "\n",
              "        [[4, 3, 1],\n",
              "         [2, 3, 4],\n",
              "         [0, 2, 4]],\n",
              "\n",
              "        [[3, 1, 2],\n",
              "         [3, 4, 4],\n",
              "         [2, 4, 2]],\n",
              "\n",
              "        [[1, 2, 2],\n",
              "         [4, 4, 1],\n",
              "         [4, 2, 2]],\n",
              "\n",
              "        [[2, 2, 3],\n",
              "         [4, 1, 3],\n",
              "         [2, 2, 3]],\n",
              "\n",
              "        [[2, 3, 3],\n",
              "         [1, 3, 0],\n",
              "         [2, 3, 0]]],\n",
              "\n",
              "\n",
              "       [[[2, 1, 4],\n",
              "         [3, 3, 4],\n",
              "         [2, 3, 4]],\n",
              "\n",
              "        [[1, 4, 2],\n",
              "         [3, 4, 0],\n",
              "         [3, 4, 2]],\n",
              "\n",
              "        [[4, 2, 3],\n",
              "         [4, 0, 2],\n",
              "         [4, 2, 0]],\n",
              "\n",
              "        [[2, 3, 4],\n",
              "         [0, 2, 4],\n",
              "         [2, 0, 0]],\n",
              "\n",
              "        [[3, 4, 4],\n",
              "         [2, 4, 2],\n",
              "         [0, 0, 0]],\n",
              "\n",
              "        [[4, 4, 1],\n",
              "         [4, 2, 2],\n",
              "         [0, 0, 2]],\n",
              "\n",
              "        [[4, 1, 3],\n",
              "         [2, 2, 3],\n",
              "         [0, 2, 3]],\n",
              "\n",
              "        [[1, 3, 0],\n",
              "         [2, 3, 0],\n",
              "         [2, 3, 0]]],\n",
              "\n",
              "\n",
              "       [[[3, 3, 4],\n",
              "         [2, 3, 4],\n",
              "         [1, 4, 3]],\n",
              "\n",
              "        [[3, 4, 0],\n",
              "         [3, 4, 2],\n",
              "         [4, 3, 3]],\n",
              "\n",
              "        [[4, 0, 2],\n",
              "         [4, 2, 0],\n",
              "         [3, 3, 2]],\n",
              "\n",
              "        [[0, 2, 4],\n",
              "         [2, 0, 0],\n",
              "         [3, 2, 0]],\n",
              "\n",
              "        [[2, 4, 2],\n",
              "         [0, 0, 0],\n",
              "         [2, 0, 0]],\n",
              "\n",
              "        [[4, 2, 2],\n",
              "         [0, 0, 2],\n",
              "         [0, 0, 3]],\n",
              "\n",
              "        [[2, 2, 3],\n",
              "         [0, 2, 3],\n",
              "         [0, 3, 1]],\n",
              "\n",
              "        [[2, 3, 0],\n",
              "         [2, 3, 0],\n",
              "         [3, 1, 2]]]])"
            ]
          },
          "metadata": {},
          "execution_count": 16
        }
      ],
      "source": [
        "arr = np.random.randint(0,5,(10,10))\n",
        "n = 3\n",
        "i = 1 + (arr.shape[0]-3)\n",
        "j = 1 + (arr.shape[1]-3)\n",
        "z = np.lib.stride_tricks.as_strided(arr, shape=(i, j, n, n), strides = arr.strides + arr.strides)\n",
        "z"
      ]
    },
    {
      "cell_type": "markdown",
      "metadata": {
        "id": "Fawkp1KZNLb7"
      },
      "source": [
        "#### 85. Create a 2D array subclass such that Z\\[i,j\\] == Z\\[j,i\\] (★★★) \n",
        "(**hint**: class method)"
      ]
    },
    {
      "cell_type": "code",
      "execution_count": null,
      "metadata": {
        "id": "78xi1OXKNLb7"
      },
      "outputs": [],
      "source": []
    },
    {
      "cell_type": "markdown",
      "metadata": {
        "id": "GKznJUdHNLb7"
      },
      "source": [
        "#### 86. Consider a set of p matrices wich shape (n,n) and a set of p vectors with shape (n,1). How to compute the sum of of the p matrix products at once? (result has shape (n,1)) (★★★) \n",
        "(**hint**: np.tensordot)"
      ]
    },
    {
      "cell_type": "code",
      "execution_count": null,
      "metadata": {
        "id": "MX29r2yVNLb7"
      },
      "outputs": [],
      "source": [
        "p, n = 10, 20\n",
        "M = np.ones((p,n,n))\n",
        "V = np.ones((p,n,1))\n",
        "S = np.tensordot(M, V, axes=[[0, 2], [0, 1]])\n",
        "print(S)"
      ]
    },
    {
      "cell_type": "markdown",
      "metadata": {
        "id": "_VkxRh2aNLb7"
      },
      "source": [
        "#### 87. Consider a 16x16 array, how to get the block-sum (block size is 4x4)? (★★★) \n",
        "(**hint**: np.add.reduceat)"
      ]
    },
    {
      "cell_type": "code",
      "execution_count": 29,
      "metadata": {
        "id": "HTl-RhoxNLb7",
        "colab": {
          "base_uri": "https://localhost:8080/"
        },
        "outputId": "d7e19545-6371-4f76-9917-6c1c157cf30c"
      },
      "outputs": [
        {
          "output_type": "execute_result",
          "data": {
            "text/plain": [
              "array([[16., 16., 16., 16.],\n",
              "       [16., 16., 16., 16.],\n",
              "       [16., 16., 16., 16.],\n",
              "       [16., 16., 16., 16.]])"
            ]
          },
          "metadata": {},
          "execution_count": 29
        }
      ],
      "source": [
        "Z = np.ones((16,16))\n",
        "k = 4\n",
        "S = np.add.reduceat(np.add.reduceat(Z, np.arange(0, Z.shape[0], k), axis=0),\n",
        "                                       np.arange(0, Z.shape[1], k), axis=1)\n",
        "S"
      ]
    },
    {
      "cell_type": "markdown",
      "metadata": {
        "id": "vWop1IUxNLb7"
      },
      "source": [
        "#### 88. How to implement the Game of Life using numpy arrays? (★★★)"
      ]
    },
    {
      "cell_type": "code",
      "execution_count": null,
      "metadata": {
        "id": "ZoOhJMdWNLb7"
      },
      "outputs": [],
      "source": []
    },
    {
      "cell_type": "markdown",
      "metadata": {
        "id": "SkgMd19YNLb8"
      },
      "source": [
        "#### 89. How to get the n largest values of an array (★★★) \n",
        "(**hint**: np.argsort | np.argpartition)"
      ]
    },
    {
      "cell_type": "code",
      "execution_count": 30,
      "metadata": {
        "id": "hJwzXvEsNLb8",
        "colab": {
          "base_uri": "https://localhost:8080/"
        },
        "outputId": "10167ce9-eef2-4836-9160-f004d2b92666"
      },
      "outputs": [
        {
          "output_type": "stream",
          "name": "stdout",
          "text": [
            "[9995 9996 9997 9998 9999]\n",
            "[9999 9998 9997 9996 9995]\n"
          ]
        }
      ],
      "source": [
        "Z = np.arange(10000)\n",
        "np.random.shuffle(Z)\n",
        "n = 5\n",
        "\n",
        "print (Z[np.argsort(Z)[-n:]])\n",
        "print (Z[np.argpartition(-Z,n)[:n]])"
      ]
    },
    {
      "cell_type": "markdown",
      "metadata": {
        "id": "oyt0PeK_NLb8"
      },
      "source": [
        "#### 90. Given an arbitrary number of vectors, build the cartesian product (every combinations of every item) (★★★) \n",
        "(**hint**: np.indices)"
      ]
    },
    {
      "cell_type": "code",
      "execution_count": null,
      "metadata": {
        "scrolled": true,
        "id": "cOTpKs_tNLb8"
      },
      "outputs": [],
      "source": []
    },
    {
      "cell_type": "markdown",
      "metadata": {
        "id": "prxk8Tu3NLb8"
      },
      "source": [
        "#### 91. How to create a record array from a regular array? (★★★) \n",
        "(**hint**: np.core.records.fromarrays)"
      ]
    },
    {
      "cell_type": "code",
      "execution_count": 32,
      "metadata": {
        "id": "DVlLaDY8NLb8",
        "colab": {
          "base_uri": "https://localhost:8080/"
        },
        "outputId": "cfa7b6f9-4491-496d-ae38-43a943840ed5"
      },
      "outputs": [
        {
          "output_type": "execute_result",
          "data": {
            "text/plain": [
              "rec.array([(b'Yasemin Rayner', 88.5, 90), (b'Ayaana Mcnamara', 87. , 99),\n",
              "           (b'Jody Preece', 85.5, 91)],\n",
              "          dtype=[('col1', 'S80'), ('col2', '<f8'), ('col3', '<i8')])"
            ]
          },
          "metadata": {},
          "execution_count": 32
        }
      ],
      "source": [
        "arra1 = np.array([(\"Yasemin Rayner\", 88.5, 90),\n",
        "                 (\"Ayaana Mcnamara\", 87, 99),\n",
        "             (\"Jody Preece\", 85.5, 91)])\n",
        "result = np.core.records.fromarrays(arra1.T,\n",
        "                              names='col1, col2, col3',\n",
        "                              formats = 'S80, f8, i8')\n",
        "result"
      ]
    },
    {
      "cell_type": "markdown",
      "metadata": {
        "id": "LhDwWfwSNLb_"
      },
      "source": [
        "#### 92. Consider a large vector Z, compute Z to the power of 3 using 3 different methods (★★★) \n",
        "(**hint**: np.power, \\*, np.einsum)"
      ]
    },
    {
      "cell_type": "code",
      "source": [
        "x = np.random.rand(int(5e7))\n",
        "\n",
        "np.power(x,3)"
      ],
      "metadata": {
        "colab": {
          "base_uri": "https://localhost:8080/"
        },
        "id": "HhXSzYHR0_bC",
        "outputId": "142c656b-87e3-4840-a66d-c1d40f931d38"
      },
      "execution_count": 35,
      "outputs": [
        {
          "output_type": "execute_result",
          "data": {
            "text/plain": [
              "array([0.11953643, 0.19481283, 0.85028303, ..., 0.37873036, 0.01204703,\n",
              "       0.11281125])"
            ]
          },
          "metadata": {},
          "execution_count": 35
        }
      ]
    },
    {
      "cell_type": "code",
      "execution_count": 36,
      "metadata": {
        "id": "oRaABoC9NLb_",
        "colab": {
          "base_uri": "https://localhost:8080/"
        },
        "outputId": "afafd221-c0a6-49ae-924b-2dc0b4a3ae1a"
      },
      "outputs": [
        {
          "output_type": "execute_result",
          "data": {
            "text/plain": [
              "array([0.11953643, 0.19481283, 0.85028303, ..., 0.37873036, 0.01204703,\n",
              "       0.11281125])"
            ]
          },
          "metadata": {},
          "execution_count": 36
        }
      ],
      "source": [
        "x*x*x"
      ]
    },
    {
      "cell_type": "code",
      "source": [
        "np.einsum('i,i,i->i',x,x,x)"
      ],
      "metadata": {
        "colab": {
          "base_uri": "https://localhost:8080/"
        },
        "id": "fOOb7FJS1FfA",
        "outputId": "c4e0e855-79c5-48e9-ed56-13f01cdac8e2"
      },
      "execution_count": 37,
      "outputs": [
        {
          "output_type": "execute_result",
          "data": {
            "text/plain": [
              "array([0.11953643, 0.19481283, 0.85028303, ..., 0.37873036, 0.01204703,\n",
              "       0.11281125])"
            ]
          },
          "metadata": {},
          "execution_count": 37
        }
      ]
    },
    {
      "cell_type": "markdown",
      "metadata": {
        "id": "T1afWitnNLb_"
      },
      "source": [
        "#### 93. Consider two arrays A and B of shape (8,3) and (2,2). How to find rows of A that contain elements of each row of B regardless of the order of the elements in B? (★★★) \n",
        "(**hint**: np.where)"
      ]
    },
    {
      "cell_type": "code",
      "execution_count": 40,
      "metadata": {
        "id": "nRsCBCqeNLb_",
        "colab": {
          "base_uri": "https://localhost:8080/"
        },
        "outputId": "eca30fed-c557-4c9f-d0b1-15f9c64f85af"
      },
      "outputs": [
        {
          "output_type": "execute_result",
          "data": {
            "text/plain": [
              "array([6, 7])"
            ]
          },
          "metadata": {},
          "execution_count": 40
        }
      ],
      "source": [
        "A = np.random.randint(0,5,(8,3))\n",
        "B = np.random.randint(0,5,(2,2))\n",
        "\n",
        "C = (A[..., np.newaxis, np.newaxis] == B)\n",
        "rows = np.where(C.any((3,1)).all(1))[0]\n",
        "rows"
      ]
    },
    {
      "cell_type": "markdown",
      "metadata": {
        "id": "XOrIXE2TNLb_"
      },
      "source": [
        "#### 94. Considering a 10x3 matrix, extract rows with unequal values (e.g. \\[2,2,3\\]) (★★★)"
      ]
    },
    {
      "cell_type": "code",
      "execution_count": 43,
      "metadata": {
        "id": "Po6m5GhTNLb_",
        "colab": {
          "base_uri": "https://localhost:8080/"
        },
        "outputId": "e59b0820-f76f-458d-9c9a-6382adeeba77"
      },
      "outputs": [
        {
          "output_type": "execute_result",
          "data": {
            "text/plain": [
              "array([[2, 3, 3],\n",
              "       [2, 3, 3],\n",
              "       [3, 0, 0],\n",
              "       [4, 1, 3],\n",
              "       [2, 0, 4],\n",
              "       [0, 3, 2],\n",
              "       [0, 3, 3],\n",
              "       [2, 4, 3],\n",
              "       [1, 1, 2],\n",
              "       [1, 4, 1]])"
            ]
          },
          "metadata": {},
          "execution_count": 43
        }
      ],
      "source": [
        "Z = np.random.randint(0,5,(10,3))\n",
        "E = np.all(Z[:,1:] == Z[:,:-1], axis=1)\n",
        "U = Z[~E]\n",
        "U"
      ]
    },
    {
      "cell_type": "markdown",
      "metadata": {
        "id": "r9KQ_IYoNLcA"
      },
      "source": [
        "#### 95. Convert a vector of ints into a matrix binary representation (★★★) \n",
        "(**hint**: np.unpackbits)"
      ]
    },
    {
      "cell_type": "code",
      "execution_count": 44,
      "metadata": {
        "id": "8rjWlLmENLcA",
        "colab": {
          "base_uri": "https://localhost:8080/"
        },
        "outputId": "f404699b-2e5d-4225-fda5-2123348dfea8"
      },
      "outputs": [
        {
          "output_type": "stream",
          "name": "stdout",
          "text": [
            "[[0 0 0 0 0 0 0 0]\n",
            " [0 0 0 0 0 0 0 1]\n",
            " [0 0 0 0 0 0 1 0]\n",
            " [0 0 0 0 0 0 1 1]\n",
            " [0 0 0 0 1 1 1 1]\n",
            " [0 0 0 1 0 0 0 0]\n",
            " [0 0 1 0 0 0 0 0]\n",
            " [0 1 0 0 0 0 0 0]\n",
            " [1 0 0 0 0 0 0 0]]\n"
          ]
        }
      ],
      "source": [
        "I = np.array([0, 1, 2, 3, 15, 16, 32, 64, 128], dtype=np.uint8)\n",
        "print(np.unpackbits(I[:, np.newaxis], axis=1))"
      ]
    },
    {
      "cell_type": "markdown",
      "metadata": {
        "id": "s68EXOvBNLcA"
      },
      "source": [
        "#### 96. Given a two dimensional array, how to extract unique rows? (★★★) \n",
        "(**hint**: np.ascontiguousarray)"
      ]
    },
    {
      "cell_type": "code",
      "execution_count": 45,
      "metadata": {
        "id": "q5wSwDCENLcA",
        "colab": {
          "base_uri": "https://localhost:8080/"
        },
        "outputId": "41914a48-47c9-43de-9b8a-65e0cc9681af"
      },
      "outputs": [
        {
          "output_type": "execute_result",
          "data": {
            "text/plain": [
              "array([[0, 0, 0],\n",
              "       [0, 1, 0],\n",
              "       [0, 1, 1],\n",
              "       [1, 0, 1],\n",
              "       [1, 1, 1]])"
            ]
          },
          "metadata": {},
          "execution_count": 45
        }
      ],
      "source": [
        "Z = np.random.randint(0,2,(6,3))\n",
        "T = np.ascontiguousarray(Z).view(np.dtype((np.void, Z.dtype.itemsize * Z.shape[1])))\n",
        "_, idx = np.unique(T, return_index=True)\n",
        "uZ = Z[idx]\n",
        "uZ"
      ]
    },
    {
      "cell_type": "markdown",
      "metadata": {
        "id": "_vafRWAgNLcA"
      },
      "source": [
        "#### 97. Considering 2 vectors A & B, write the einsum equivalent of inner, outer, sum, and mul function (★★★) \n",
        "(**hint**: np.einsum)"
      ]
    },
    {
      "cell_type": "code",
      "execution_count": null,
      "metadata": {
        "id": "7YBBBXfpNLcA"
      },
      "outputs": [],
      "source": []
    },
    {
      "cell_type": "markdown",
      "metadata": {
        "id": "6pL8tChQNLcA"
      },
      "source": [
        "#### 98. Considering a path described by two vectors (X,Y), how to sample it using equidistant samples (★★★)? \n",
        "(**hint**: np.cumsum, np.interp)"
      ]
    },
    {
      "cell_type": "code",
      "execution_count": null,
      "metadata": {
        "collapsed": true,
        "id": "9-sfokT-NLcA"
      },
      "outputs": [],
      "source": []
    },
    {
      "cell_type": "markdown",
      "metadata": {
        "id": "lbUiaF2BNLcA"
      },
      "source": [
        "#### 99. Given an integer n and a 2D array X, select from X the rows which can be interpreted as draws from a multinomial distribution with n degrees, i.e., the rows which only contain integers and which sum to n. (★★★) \n",
        "(**hint**: np.logical\\_and.reduce, np.mod)"
      ]
    },
    {
      "cell_type": "code",
      "execution_count": 46,
      "metadata": {
        "id": "IAfuR3i2NLcA",
        "colab": {
          "base_uri": "https://localhost:8080/"
        },
        "outputId": "0d3e9c06-9a74-4e06-c7cc-7452ad0eb05b"
      },
      "outputs": [
        {
          "output_type": "stream",
          "name": "stdout",
          "text": [
            "[[2. 0. 1. 1.]]\n"
          ]
        }
      ],
      "source": [
        "X = np.asarray([[1.0, 0.0, 3.0, 8.0],\n",
        "                [2.0, 0.0, 1.0, 1.0],\n",
        "                [1.5, 2.5, 1.0, 0.0]])\n",
        "n = 4\n",
        "M = np.logical_and.reduce(np.mod(X, 1) == 0, axis=-1)\n",
        "M &= (X.sum(axis=-1) == n)\n",
        "print(X[M])"
      ]
    },
    {
      "cell_type": "markdown",
      "metadata": {
        "id": "yC12fdVZNLcA"
      },
      "source": [
        "#### 100. Compute bootstrapped 95% confidence intervals for the mean of a 1D array X (i.e., resample the elements of an array with replacement N times, compute the mean of each sample, and then compute percentiles over the means). (★★★) \n",
        "(**hint**: np.percentile)"
      ]
    },
    {
      "cell_type": "code",
      "execution_count": 47,
      "metadata": {
        "id": "zT4XMQTUNLcA",
        "colab": {
          "base_uri": "https://localhost:8080/"
        },
        "outputId": "afff6f7d-dc18-442e-e763-8ffaf925969c"
      },
      "outputs": [
        {
          "output_type": "stream",
          "name": "stdout",
          "text": [
            "[-0.21614256  0.10021661]\n"
          ]
        }
      ],
      "source": [
        "X = np.random.randn(100)\n",
        "N = 1000 \n",
        "idx = np.random.randint(0, X.size, (N, X.size))\n",
        "means = X[idx].mean(axis=1)\n",
        "confint = np.percentile(means, [2.5, 97.5])\n",
        "print(confint)"
      ]
    }
  ],
  "metadata": {
    "kernelspec": {
      "display_name": "Python 3",
      "language": "python",
      "name": "python3"
    },
    "language_info": {
      "codemirror_mode": {
        "name": "ipython",
        "version": 3
      },
      "file_extension": ".py",
      "mimetype": "text/x-python",
      "name": "python",
      "nbconvert_exporter": "python",
      "pygments_lexer": "ipython3",
      "version": "3.8.3"
    },
    "colab": {
      "provenance": [],
      "collapsed_sections": []
    }
  },
  "nbformat": 4,
  "nbformat_minor": 0
}